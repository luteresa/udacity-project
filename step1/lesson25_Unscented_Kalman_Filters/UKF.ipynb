{
 "cells": [
  {
   "cell_type": "markdown",
   "metadata": {},
   "source": [
    "# 无损卡尔曼滤波"
   ]
  },
  {
   "cell_type": "markdown",
   "metadata": {},
   "source": [
    "在上一节的扩展卡尔曼滤波跟踪系统中，有两个缺陷：\n",
    "\n",
    "1. 系统采用恒速模型：假定行人沿直线运动；实际应用中，出现曲线运动时，预估不够准确。\n",
    "\n",
    "2. 每次测量都需要计算雅可比矩阵，很耗资源。\n",
    "\n",
    "当问题一旦变得复杂，预测和测量模型高度非线性化时，EKF计算量就变得十分不可控，效果表现也较差；\n",
    "\n",
    "为解决这些问题，学习一个新的状态估计算法--**无损卡尔曼滤波**(Unscented Kalman Filters)\n",
    "\n",
    "无损卡尔曼滤波基本原理与之前的通用卡尔曼滤波完全一样，还是包括预测和测量更新两部分。不同的是，采取新的运动模型(CTRV)，对非线性化的处理(基于统计采样)。\n"
   ]
  },
  {
   "cell_type": "markdown",
   "metadata": {},
   "source": [
    "![](./kf.png)"
   ]
  },
  {
   "cell_type": "markdown",
   "metadata": {},
   "source": [
    "# 问题1：运动模型\n",
    "\n",
    "在扩展卡尔曼滤波中，我们用的是恒速模型(constant velocity, CV)，恒速模型是物体追踪中最常见的模型；其他常见的运动模型有：\n",
    "\n",
    "CTRV：constant turn rate and velocity magnitude model \n",
    "\n",
    "CTRA：constant turn rate and acceleration \n",
    "\n",
    "CSAV：constant steering angle and velocity \n",
    "\n",
    "CCA：constant curvature and acceleration \n",
    "\n",
    "在无损卡尔曼滤波中，我们采用CTRV模型，CTRV模型更适合真实的交通场景；\n"
   ]
  },
  {
   "cell_type": "markdown",
   "metadata": {},
   "source": [
    "## 1.1 状态向量"
   ]
  },
  {
   "cell_type": "markdown",
   "metadata": {},
   "source": [
    "CTRV模型的状态向量包括，\n",
    "\n",
    "![](./ukf001.png)"
   ]
  },
  {
   "cell_type": "markdown",
   "metadata": {},
   "source": [
    "General State Vector\n",
    "\n",
    "\n",
    "$$x = \\begin{bmatrix} \n",
    "    p_x\\\\ p_y\\\\ v\\\\ \\psi\\\\ \\dot{\\psi} \n",
    "    \\end{bmatrix}\n",
    "$$\n",
    "\n",
    "\n",
    "\n",
    "$p_x,p_y$: 行人位置\n",
    "\n",
    "$v$: 速度, \n",
    "\n",
    "$\\psi$: 偏航角\n",
    "\n",
    "$\\dot{\\psi}$: 偏航角速度"
   ]
  },
  {
   "cell_type": "markdown",
   "metadata": {},
   "source": [
    "## 1.2 过程模型\n",
    "\n",
    "已知k时刻的状态向量$x_k$，要预测k+1时刻的状态向量$x_{k+1}$, $v_k$是过程噪声:\n",
    "\n",
    "$$\n",
    "x_{k+1} = f(x_k, v_k)\n",
    "$$\n",
    "\n",
    "方程式中，过程模型f，根据$x_k和v_k的状态，预测x_{k+1}$\n",
    "![](./ukf002.png)\n",
    "\n",
    "###  先实现过程模型确定性部分\n",
    "\n",
    "由于CTRV模型是非线性的，通用更新方法是\n",
    "\n",
    "$$\n",
    "x_{k+1} = f(x_k) + \\int_{x_k}^{x_{k+1}}\\dot{x}\n",
    "$$\n",
    "\n"
   ]
  },
  {
   "cell_type": "markdown",
   "metadata": {},
   "source": [
    "也即求出状态向量x的微分方程，时间变化dt，就可以利用积分更新过程模型\n",
    "\n",
    "![](./ukf003.png)"
   ]
  },
  {
   "cell_type": "markdown",
   "metadata": {},
   "source": [
    "这是一个非常通用，也非常有用的方法，可以用来推演很多真实世界问题的过程模型。\n",
    "\n",
    "微分方程如下："
   ]
  },
  {
   "cell_type": "markdown",
   "metadata": {},
   "source": [
    "![](./ukf005.png)\n",
    "\n",
    "求积分得到过程模型：\n",
    "\n",
    "![](./ukf006.png)"
   ]
  },
  {
   "cell_type": "markdown",
   "metadata": {},
   "source": [
    "它是一个函数，根据k时刻的状态，求出了k+1时刻的状态。这里有个问题，当角速度为0时，会出现除数为0；\n",
    "\n",
    "这是个正常现象，意味着车辆(或行人)在沿直线运动，把该情景做特殊处理，当$\\dot{\\psi}$=0时，过程函数简化如下：\n",
    "\n",
    "$$x_{k+1} = \\begin{bmatrix} \n",
    "    v_kcos(\\psi_k)dt\\\\ \n",
    "    v_ksin(\\psi_k)dt\\\\ \n",
    "    v_k\\\\ \n",
    "    \\psi\\\\ \n",
    "    0\n",
    "    \\end{bmatrix}\n",
    "$$\n",
    "\n",
    "这是过程模型的确定部分，下面求过程模型的随机部分。"
   ]
  },
  {
   "cell_type": "markdown",
   "metadata": {},
   "source": [
    "### 过程模型随机部分\n",
    "\n",
    "过程模型的随机部分，用一个二维噪音向量$v_k$描述，不确定性$v_k$由两个独立的标量噪音过程组成：\n",
    "\n",
    "**直线向加速度噪音$v_a$**： 影响车辆的纵向速度，并且在每个时间步改变它的值；纵向加速度是随机分布的白噪声；\n",
    "\n",
    "**角加速度$v_{\\dot{\\dot\\psi}}$**:  也是一个均值为0的正态分布白噪声；\n",
    "\n",
    "![](./ukf007.png)\n",
    "\n"
   ]
  },
  {
   "cell_type": "markdown",
   "metadata": {},
   "source": [
    "假设角加速度和直线加速度，都是常量，将它们添加到过程函数中：\n",
    "\n",
    "![](./ukf008.png)"
   ]
  },
  {
   "cell_type": "markdown",
   "metadata": {},
   "source": [
    "综上，过程模型公式为：\n",
    "\n",
    "当$\\dot\\psi \\not=0$\n",
    "\n",
    "$$x_{k+1} = x_k + \n",
    "    \\begin{bmatrix} \n",
    "    \\frac{v_k}{\\dot\\psi_k}(sin(\\psi_k + \\dot{\\psi}dt) - sin(\\psi_k))\\\\ \n",
    "    \\frac{v_k}{\\dot\\psi_k}(-cos(\\psi_k + \\dot\\psi_kdt) + cos(\\psi_k))\\\\ \n",
    "    0\\\\ \n",
    "    \\dot{\\psi}dt\\\\ \n",
    "    0\n",
    "    \\end{bmatrix} + \\begin{bmatrix} \n",
    "    \\frac{1}{2}(dt)^2v_{a,k}cos(\\psi_k)\\\\ \n",
    "    \\frac{1}{2}(dt)^2v_{a,k}sin(\\psi_k)\\\\ \n",
    "    dt{\\cdot}v_{a,k}\\\\ \n",
    "    \\frac{1}{2}(dt)^2{\\cdot}v_{\\dot{\\dot{\\psi}},k}\\\\ \n",
    "    dt{\\cdot}v_{\\dot{\\dot{\\psi}},k}\\\\\n",
    "    \\end{bmatrix}\n",
    "$$\n",
    "\n",
    "当$\\dot\\psi =0$，即车辆沿直线运动时，模型公式为\n",
    "$$x_{k+1} = x_k + \n",
    "    \\begin{bmatrix} \n",
    "    v_kcos(\\psi_k)dt\\\\ \n",
    "    v_ksin(\\psi_k)dt\\\\ \n",
    "    v_k\\\\ \n",
    "    \\psi\\\\ \n",
    "    0\n",
    "    \\end{bmatrix}+ \\begin{bmatrix} \n",
    "    \\frac{1}{2}(dt)^2v_{a,k}cos(\\psi_k)\\\\ \n",
    "    \\frac{1}{2}(dt)^2v_{a,k}sin(\\psi_k)\\\\ \n",
    "    dt{\\cdot}v_{a,k}\\\\ \n",
    "    \\frac{1}{2}(dt)^2{\\cdot}v_{\\dot{\\dot{\\psi}},k}\\\\ \n",
    "    dt{\\cdot}v_{\\dot{\\dot{\\psi}},k}\\\\\n",
    "    \\end{bmatrix}\n",
    "$$"
   ]
  },
  {
   "cell_type": "markdown",
   "metadata": {},
   "source": [
    "# 问题2：如何处理非线性模型？"
   ]
  },
  {
   "cell_type": "markdown",
   "metadata": {},
   "source": [
    "我们已经从CTRV模型中推演出了一个过程模型，这个模型考虑到了直线行驶或拐弯的可能性，这在实际应用追踪自行车时有不错的效果。\n",
    "\n",
    "这个过程模型，是非线性的。经过非线性转换后，结果已经不是一个高斯分布，一个不规则的分布\n",
    "\n",
    "![](./ukf010.png)\n",
    "\n",
    "EKF的思想是寻找一个线性函数模型来近似这个非线性模型，而UKF的思想是\n",
    "\n",
    "\n",
    "**预测继续使用高斯分布，寻找一个与真实分布近似的高斯分布**\n",
    "\n",
    "![](./ukf012.png)"
   ]
  },
  {
   "cell_type": "markdown",
   "metadata": {},
   "source": [
    "问题在于，如何才能找到这个均值向量和协方差矩阵？\n",
    "\n",
    "这个寻找的方法是，无损变换。\n",
    "\n",
    "使用非线性函数进行整个分布的转换是很难的，但转换状态空间的单个点非常容易。\n",
    "\n",
    "使用一定方法产生一组代表性sigma point点集，这些sigma point采样点能够代表当前的分布，然后将这些点通过非线性函数变换到一个新的空间（预测空间），\n",
    "\n",
    "然后基于这些新的sigma point计算出一个新的高斯分布。\n",
    "\n",
    "![](./ukf013.png)\n",
    "\n",
    "现在新的高斯分布，均值和协方差与真正预测的分布相同(可以给出有用的近似)。\n",
    "\n",
    "值得一提的是，同样的方法也适用于线性案例，如果过程具备线性特征,sigma点方法可以提供和标准通用卡尔曼滤波器一样的解。\n",
    "\n",
    "但这里最好不要使用sigma点，因为它们计算时间太长"
   ]
  },
  {
   "cell_type": "markdown",
   "metadata": {},
   "source": [
    "无损预测分三步：\n",
    "\n",
    "\n",
    "\n",
    "![](./ukf100.png)\n",
    "\n",
    "\n",
    "## step1，知道选择sigma点的好办法；\n",
    "\n"
   ]
  },
  {
   "cell_type": "markdown",
   "metadata": {},
   "source": [
    "以两个参数为例(便于图示化)\n",
    "\n",
    "![](./ukf101.png)\n",
    "\n",
    "sigma点个数，一般由状态向量维度决定，num=2*n+1"
   ]
  },
  {
   "cell_type": "markdown",
   "metadata": {},
   "source": [
    "取sigma点方法：\n",
    "![](./ukf105.png)"
   ]
  },
  {
   "cell_type": "markdown",
   "metadata": {},
   "source": [
    "$$X_{k|k} = \\Bigg [ x_{k|k} \\qquad x_{k|k}+\\sqrt{(\\lambda+n_x)P_{k|k}} \\qquad x_{k|k}-\\sqrt{(\\lambda+n_x)P_{k|k}} \\Bigg]\n",
    "$$\n",
    "\n",
    "第一个点就是均值点，\n",
    "\n",
    "$x_{k|k}+\\sqrt{(\\lambda+n_x)P_{k|k}}$   表示 $n_x + 1列$\n",
    "\n",
    "$x_{k|k}-\\sqrt{(\\lambda+n_x)P_{k|k}}  表示n_x + 2 到 2n_x + 1列$\n",
    "\n",
    "$\\lambda$是一个超参数，$\\lambda$越大，sigma point就越远离分布的均值，$\\lambda$越小，sigma point越靠近均值。\n",
    "\n",
    "计算\n",
    "$$\n",
    "AA^T = P\n",
    "$$\n",
    "\n",
    "求解上式的A是一个复杂的过程，但如果P是对角矩阵，这个求解就可以简化，实际上P表示对估计状态的不确定性(协方差矩阵)，状态空间各分量基本是独立的，也就是说P基本上就是对角矩阵，所以对P进行Choesky分解，得到的下三角矩阵就是A。\n",
    "\n",
    "代码实现：ex1\n"
   ]
  },
  {
   "cell_type": "markdown",
   "metadata": {},
   "source": [
    "过程模型包括两部分，过程噪声也要考虑在内\n",
    "\n",
    "![](./ukf107.png)"
   ]
  },
  {
   "cell_type": "markdown",
   "metadata": {},
   "source": [
    "过程噪声也是一个非线性模型，考虑噪声过程的sigma points用一个增广矩阵表示\n",
    "\n",
    "![](./ukf106.png)\n",
    "\n",
    "代码实现：\n",
    "\n",
    "ex2"
   ]
  },
  {
   "cell_type": "markdown",
   "metadata": {},
   "source": [
    "## step2，如何预测sigma点（插入过程函数就可以）;\n",
    "\n",
    "把step1中产生的sigma points输入过程函数即可:\n",
    "\n",
    "![](./ukf108.png)\n",
    "\n",
    "\n",
    "当$\\dot\\psi \\not=0$\n",
    "\n",
    "$$x_{k+1} = x_k + \n",
    "    \\begin{bmatrix} \n",
    "    \\frac{v_k}{\\dot\\psi_k}(sin(\\psi_k + \\dot{\\psi}dt) - sin(\\psi_k))\\\\ \n",
    "    \\frac{v_k}{\\dot\\psi_k}(-cos(\\psi_k + \\dot\\psi_kdt) + cos(\\psi_k))\\\\ \n",
    "    0\\\\ \n",
    "    \\dot{\\psi}dt\\\\ \n",
    "    0\n",
    "    \\end{bmatrix} + \\begin{bmatrix} \n",
    "    \\frac{1}{2}(dt)^2v_{a,k}cos(\\psi_k)\\\\ \n",
    "    \\frac{1}{2}(dt)^2v_{a,k}sin(\\psi_k)\\\\ \n",
    "    dt{\\cdot}v_{a,k}\\\\ \n",
    "    \\frac{1}{2}(dt)^2{\\cdot}v_{\\dot{\\dot{\\psi}},k}\\\\ \n",
    "    dt{\\cdot}v_{\\dot{\\dot{\\psi}},k}\\\\\n",
    "    \\end{bmatrix}\n",
    "$$\n",
    "\n",
    "当$\\dot\\psi =0$，即车辆沿直线运动时，模型公式为\n",
    "$$x_{k+1} = x_k + \n",
    "    \\begin{bmatrix} \n",
    "    v_kcos(\\psi_k)dt\\\\ \n",
    "    v_ksin(\\psi_k)dt\\\\ \n",
    "    v_k\\\\ \n",
    "    \\psi\\\\ \n",
    "    0\n",
    "    \\end{bmatrix}+ \\begin{bmatrix} \n",
    "    \\frac{1}{2}(dt)^2v_{a,k}cos(\\psi_k)\\\\ \n",
    "    \\frac{1}{2}(dt)^2v_{a,k}sin(\\psi_k)\\\\ \n",
    "    dt{\\cdot}v_{a,k}\\\\ \n",
    "    \\frac{1}{2}(dt)^2{\\cdot}v_{\\dot{\\dot{\\psi}},k}\\\\ \n",
    "    dt{\\cdot}v_{\\dot{\\dot{\\psi}},k}\\\\\n",
    "    \\end{bmatrix}\n",
    "$$\n",
    "注意:\n",
    "\n",
    "1.输入向量是7维，输出向量是5维的;\n",
    "\n",
    "2.当角速度为0时，注意除0问题，模型退化成沿直线行驶；\n",
    "\n",
    "代码实现：\n",
    "ex3"
   ]
  },
  {
   "cell_type": "markdown",
   "metadata": {},
   "source": [
    "## step3, 根据预测的sigma点，计算预测、均值和协方差；\n",
    "\n",
    "计算方法：\n",
    "\n",
    "![](./ukf011.png)\n",
    "\n",
    "### 注意：\n",
    "\n",
    "对权重$w_i$的定义，方法有多种，这里采用常用的：\n",
    "\n"
   ]
  },
  {
   "cell_type": "markdown",
   "metadata": {},
   "source": [
    "Weights: \n",
    "\n",
    "$\n",
    "w_i =\\frac{\\lambda}{\\lambda+n_{a}}, i =1\n",
    "$\n",
    "\n",
    "$\n",
    "w_i =\\frac{1}{2(\\lambda+n_{a})}, i =2...n_{a}\n",
    "$\n",
    "\n",
    "Predicted Mean\n",
    "\n",
    "$\n",
    "x_{k+1|k} = \\sum_{i=1}^{n_\\sigma} w_i X_{k+1|k,i}\n",
    "$\n",
    "\n",
    "Predicted Covariance\n",
    "\n",
    "$\n",
    "P_{k+1|k} = \\sum_{i=1}^{n_\\sigma} w_i( X_{k+1|k,i} - x_{k+1|k})(X_{k+1|k,i} - x_{k+1|k})^TP \n",
    "$\n",
    "\n",
    "实现代码：\n",
    "ex4"
   ]
  },
  {
   "cell_type": "markdown",
   "metadata": {},
   "source": [
    "现在已经完成过程模型，预测更新\n",
    "\n",
    "![](./ukf200.png)"
   ]
  },
  {
   "cell_type": "markdown",
   "metadata": {},
   "source": [
    "# 测量更新\n",
    "\n",
    "定义把预测状态转换为测量空间的函数，叫做**测量模型**；\n",
    "\n",
    "当然，必须考虑是由哪种传感器生成的当前测量值，并使用对应的测量模型(每种传感器有相对应的测量模型)。\n",
    "\n",
    "当测量模型是非线性时，我们必须采用非线性模型处理，类似于前面介绍的预测更新过程模型。\n",
    "\n",
    "![](./ukf201.png)\n",
    "\n",
    "不过这里有个快捷技巧，可以直接重用预测过程中估计的sigma points，这里还可以跳过扩充步骤，需要扩充是因为过程噪声，\n",
    "对状态有非线性影响，\n",
    "\n",
    "比如雷达，测量噪声具有单纯的累加效果，这里不需要扩充，测量噪声，有其他更好的办法？"
   ]
  },
  {
   "cell_type": "markdown",
   "metadata": {},
   "source": [
    "这里唯一要做的就是把已经有的sigma点转换到测量空间，并使用这些点来计算预测测量值的均值和协方差。\n",
    "\n",
    "![](./ukf202.png)\n",
    "\n",
    "#### 注意：\n",
    "\n",
    "雷达的状态向量转换到测量空间，只有三个维度。\n",
    "\n",
    "测量噪声，暂时设置0；"
   ]
  },
  {
   "cell_type": "markdown",
   "metadata": {},
   "source": [
    "# 计算估计值的均值和协方差\n",
    "\n",
    "计算方法与前面预测更新部分相似，唯一不同是多出了个测量协方差噪声\n",
    "\n",
    "这里的测量噪声不具备非线性效应，只是单纯的累计性的，直接使用替换扩充。\n",
    "![](./ukf203.png)"
   ]
  },
  {
   "cell_type": "markdown",
   "metadata": {},
   "source": [
    "Helpful Equations\n",
    "\n",
    "State Vector\n",
    "$$\n",
    "_{k+1|k}=\\begin{bmatrix} p_x\\\\ p_y\\\\ v\\\\ \\psi\\\\ \\dot{\\psi} \\end{bmatrix}\n",
    "$$\n",
    "\n",
    "Measurement Vector\n",
    "\n",
    "$$\n",
    "z_{k+1|k}=\\begin{bmatrix} \\rho\\\\ \\varphi\\\\ \\dot{\\rho} \\end{bmatrix} \n",
    "$$"
   ]
  },
  {
   "cell_type": "markdown",
   "metadata": {},
   "source": [
    "Measurement Model\n",
    "\n",
    "$$\n",
    "z_{k+1|k}=h(x_{k+1}) + w_{k+1}\n",
    "$$\n",
    "\n",
    "$$\n",
    "\\rho = \\sqrt{p_x^2+p_y^2}\n",
    "$$\n",
    "\n",
    "$$\n",
    "\\varphi =arctan(\\frac{p_y}{p_x})\n",
    "$$\n",
    "\n",
    "$$\n",
    "\\dot{\\rho}=\\frac{p_xcos(\\psi)v+p_ysin(\\psi)v}{\\sqrt{p_x^2+p_y^2}} \n",
    "$$"
   ]
  },
  {
   "cell_type": "markdown",
   "metadata": {},
   "source": [
    "Predicted Measurement Mean\n",
    "\n",
    "$$\n",
    "z_{k+1|k} = \\sum_{i=1}^{n_\\sigma} w_i Z_{k+1|k,i}\n",
    "$$"
   ]
  },
  {
   "cell_type": "markdown",
   "metadata": {},
   "source": [
    "Predicted Covariance\n",
    "\n",
    "$$\n",
    "S_{k+1|k} = \\sum_{i=1}^{n_\\sigma} w_i( Z_{k+1|k,i} - z_{k+1|k})(Z_{k+1|k,i} - z_{k+1|k})^T + R\n",
    "$$"
   ]
  },
  {
   "cell_type": "markdown",
   "metadata": {},
   "source": [
    "$$\n",
    "R = E(w_k\\cdot w_k^T) = \\begin{bmatrix} \\sigma_{\\rho}^2 \\qquad 0\\qquad0\\\\ 0\\qquad\\sigma_{\\varphi}^2 \\qquad 0\\\\ 0\\qquad0\\qquad\\sigma_{\\dot{\\rho}}^2 \\end{bmatrix}\n",
    "$$\n",
    "\n",
    "代码实现:\n",
    "ex5"
   ]
  },
  {
   "cell_type": "markdown",
   "metadata": {},
   "source": [
    "# 计算卡尔曼增益，更新状态空间\n",
    "\n",
    "最后一步，查看测量值，计算卡尔曼增益，估算新的状态空间和协方差矩阵\n",
    "\n",
    "![](./ukf301.png)\n",
    "\n",
    "更新公式计算方法：\n",
    "\n",
    "\n",
    "![](./ukf302.png)"
   ]
  },
  {
   "cell_type": "markdown",
   "metadata": {},
   "source": [
    "Helpful Equations\n",
    "\n",
    "Cross-correlation Matrix\n",
    "\n",
    "$$\n",
    "T_{k+1|k} = \\sum_{i=1}^{n_\\sigma} w_i (X_{k+1|k,i} - x_{k+1|k})\\ (Z_{k+1|k,i} - z_{k+1|k})^T\n",
    "$$"
   ]
  },
  {
   "cell_type": "markdown",
   "metadata": {},
   "source": [
    "Kalman gain K\n",
    "\n",
    "$$K_{k+1|k} = T_{k+1|k}S^{-1}_{k+1|k}$$"
   ]
  },
  {
   "cell_type": "markdown",
   "metadata": {},
   "source": [
    "Update State\n",
    "$$\n",
    "x_{k+1|k+1} = x_{k+1|k}+K_{k+1|k}(z_{k+1}-z_{k+1|k})\n",
    "$$"
   ]
  },
  {
   "cell_type": "markdown",
   "metadata": {},
   "source": [
    "Covariance Matrix Update\n",
    "$$\n",
    "P_{k+1|k+1} = P_{k+1|k}-K_{k+1|k}S_{k+1|k}K^T_{k+1|k}\n",
    "$$"
   ]
  },
  {
   "cell_type": "markdown",
   "metadata": {},
   "source": [
    "# 参数调节和一致性"
   ]
  },
  {
   "cell_type": "markdown",
   "metadata": {},
   "source": [
    "最后一个问题，如何选择噪声参数，以及如何评估所选参数效果？\n",
    "\n",
    "这不仅与无损卡尔曼滤波器相关，同样适用于贝叶斯滤波器。\n",
    "\n",
    "在过程模型中，我们引入了过程噪声$v_k$, 测量模型中引入了测量噪声$w_k$， 还使用过程噪声协方差矩阵和测量噪声协方差矩阵进行了噪音量化，\n",
    "\n",
    "![](./ukf303.png)\n",
    "\n",
    "这些噪声的的方差，表示噪声的强度，但是这些值是怎么来的呢？"
   ]
  },
  {
   "cell_type": "markdown",
   "metadata": {},
   "source": [
    "测量噪声描述了传感器测量的精确度，可以从数据手册查看其精度，假设是白噪声，服从高斯分布\n",
    "\n",
    "![](./ukf304.png)"
   ]
  },
  {
   "cell_type": "markdown",
   "metadata": {},
   "source": [
    "选择过程噪声更难些，实际的交通环境里，对象的移动加速度噪声不是白噪音（司机可能不停踩油门和刹车），因此，这里使用强近似，\n",
    "\n",
    "假设过程噪声是白噪声，要得到有用的值，谨记下面的规则：\n",
    "\n",
    "尽量估算你在环境中可能碰到的最大加速度，比如城市环境，这些车加速或者刹车的加速度，通常不会超过$6m/s^2$;\n",
    "\n",
    "![](./ukf305.png)\n",
    "\n",
    "选择预期最大加速度的一半作为过程噪声，这个值到底好不好，取决于你的应用，应用对变更的快速反应是不是很重要，如果是，那就选择更高一点的过程噪声。\n",
    "\n",
    "提供平滑估算是不是很重要，如果是，那就选择更低一点的过程噪音。\n",
    "\n",
    "你通常需要知道噪音参数设置是否正确，可以运行滤波器一致性检查。"
   ]
  },
  {
   "cell_type": "markdown",
   "metadata": {},
   "source": [
    "# Consistency: \n",
    "NORMALIZED INNOVATION SQUARED(NIS)\n"
   ]
  },
  {
   "cell_type": "markdown",
   "metadata": {},
   "source": [
    "在每个循环周期，我们估算测量的均值$Z_{k+1}|k$和协方差矩阵S，实际测量值$z_{k+1}$落在误差椭圆范围内,这是正常的。\n",
    "\n",
    "![](./ukf306.png)"
   ]
  },
  {
   "cell_type": "markdown",
   "metadata": {},
   "source": [
    "但实际可能会出现这样，\n",
    "\n",
    "![](./ukf307.png)\n",
    "\n",
    "低估了预测测量值的不确定性，这说明滤波器是不一致的。估算的精度比你想的要低。"
   ]
  },
  {
   "cell_type": "markdown",
   "metadata": {},
   "source": [
    "而出现这样，\n",
    "\n",
    "![](./ukf308.png)\n",
    "\n",
    "高估了系统的不确定性，也就是说估算的精度比你想的要高，滤波器是不一致的。"
   ]
  },
  {
   "cell_type": "markdown",
   "metadata": {},
   "source": [
    "滤波器的一致性，是指能提供真实的估算不确定性。\n",
    "\n",
    "建议在设计滤波器时，始终检查一致性。检查方法：归一化信息平方，(Normalized Innovation Squared，NIS)\n",
    "\n",
    "![](./ukf309.png)"
   ]
  },
  {
   "cell_type": "markdown",
   "metadata": {},
   "source": [
    "归一化，是指相对于矩阵S的协方差而言\n",
    "\n",
    "NIS是一个标量数据。"
   ]
  },
  {
   "cell_type": "markdown",
   "metadata": {},
   "source": [
    "## NIS的统计知识"
   ]
  },
  {
   "cell_type": "markdown",
   "metadata": {},
   "source": [
    "NIS的分布符合卡方分布，\n",
    "\n",
    "![](./ukf310.png)"
   ]
  },
  {
   "cell_type": "markdown",
   "metadata": {},
   "source": [
    "df：表示自由度，即测量空间的维度；\n",
    "\n",
    "比如雷达的df=3, \n",
    "\n",
    "0.95表示，在统计意义上，所有情况下有95%的概率，NIS会超过0.352；\n",
    "\n",
    "0.05表示，在所有情况下，有5%的概率，NIS会超过7.815；\n",
    "\n",
    "设计滤波器时，画出95%这条线，即NIS=7.815，对每个时间步k计算并画出NIS值\n",
    "\n",
    "如果得到这样的图，是正常的，有时候会超过95%的线\n",
    "\n",
    "![](./ukf311.png)"
   ]
  },
  {
   "cell_type": "markdown",
   "metadata": {},
   "source": [
    "如果得到这样的图\n",
    "\n",
    "![](./ukf312.png)\n",
    "\n",
    "说明系统低估了不确定性。"
   ]
  },
  {
   "cell_type": "markdown",
   "metadata": {},
   "source": [
    "如果得到这样的图\n",
    "\n",
    "![](./ukf313.png)\n",
    "\n",
    "说明系统高估了不确定性，估算精度比你想的更高。\n",
    "\n",
    "不幸的时，NIS不会高速你错误原因，但至少它提供了一些反馈信息。\n",
    "\n",
    "实际测到的雷达NIS一致性检查：\n",
    "\n",
    "![](./ukf314.png)\n",
    "\n",
    "激光NIS一致性检查：(95%线不一样)\n",
    "\n",
    "![](./ukf315.png)\n",
    "\n",
    "如果UKF是一致的，它就能提供真实的协方差矩阵。\n",
    "\n",
    "UKF还能估算自行车的速度，有没有雷达都可以，如果使用雷达，速度估算收敛的更快。\n",
    "可以打开关闭两个传感器，看看各自的影响。\n",
    "\n",
    "![](./ukf316.png)\n",
    "\n",
    "还可以估算角速度：\n",
    "\n",
    "![](./ukf318.png)\n",
    "\n",
    "角速度对无人车尤其重要，角速度时最终行为的预测指标。"
   ]
  },
  {
   "cell_type": "markdown",
   "metadata": {},
   "source": [
    "UKF三个功能：\n",
    "\n",
    "1.在UKF中，你可以输入噪声测量数据，获得周围动态对象的位置和速度的平滑估算，不会引发延时；\n",
    "\n",
    "2.即便使用的传感器无法直接观察，还是可以获得其他车辆的方向和速度估算。\n",
    "\n",
    "3.UKF能给出结果的准确度，因为它能提供每个估算的协方差矩阵；如果UKF已经执行了一致性检查，你就能知道协方差矩阵时真实的。\n",
    "\n"
   ]
  },
  {
   "cell_type": "markdown",
   "metadata": {},
   "source": [
    "# Initializing the Kalman Filter"
   ]
  },
  {
   "cell_type": "markdown",
   "metadata": {},
   "source": [
    "The state vector x contains \n",
    "$x = [p_x, p_y, v, \\psi, \\dot{\\psi}]$\n"
   ]
  },
  {
   "cell_type": "markdown",
   "metadata": {},
   "source": [
    "$p_x,p_y$:通过传感器测量获得；"
   ]
  },
  {
   "cell_type": "markdown",
   "metadata": {},
   "source": [
    "For the other variables in the state vector x, you can try different initialization values to see what works best."
   ]
  },
  {
   "cell_type": "markdown",
   "metadata": {},
   "source": [
    "注：雷达测量的速度值(无人车视角)，不能直接用来初始化状态空间的速度(CTRV中，速度是自行车的视角，速度与自行车行驶圆周相切);\n",
    "\n",
    "协方差矩阵，可以初始化为单位矩阵。\n"
   ]
  },
  {
   "cell_type": "markdown",
   "metadata": {},
   "source": [
    "# 扩充资源\n",
    "\n",
    "### Tracking Multiple Objects and Sensor Fusion\n",
    "\n",
    "The below papers and resources concern tracking multiple objects, using Kalman Filters as well as other techniques!\n",
    "\n",
    "No Blind Spots: Full-Surround Multi-Object Tracking for Autonomous Vehicles using Cameras & LiDARs by A. Rangesh and M. Trivedi\n",
    "https://arxiv.org/pdf/1802.08755.pdf\n",
    "\n",
    "\n",
    "Multiple Sensor Fusion and Classification for Moving Object Detection and Tracking by R.O. Chavez-Garcia and O. Aycard\n",
    "https://hal.archives-ouvertes.fr/hal-01241846/document\n",
    "\n",
    "\n",
    "## Stereo cameras\n",
    "\n",
    "The below papers cover various methods of using stereo camera set-ups for object detection and tracking.\n",
    "\n",
    "Robust 3-D Motion Tracking from Stereo Images: A Model-less Method by Y.K. Yu, et. al.\n",
    "\n",
    "http://www.cse.cuhk.edu.hk/~khwong/J2008_IEEE_TIM_Stereo%20Kalman%20.pdf\n",
    "\n",
    "Vehicle Tracking and Motion Estimation Based on Stereo Vision Sequences by A. Barth (long read)\n",
    "\n",
    "http://hss.ulb.uni-bonn.de/2010/2356/2356.pdf\n",
    "\n",
    "\n",
    "## Deep Learning-based approaches\n",
    "\n",
    "The below papers include various deep learning-based approaches to 3D object detection and tracking.\n",
    "\n",
    "Fast and Furious: Real Time End-to-End 3D Detection, Tracking and Motion Forecasting with a Single Convolutional Net by W. Luo, et. al.\n",
    "http://openaccess.thecvf.com/content_cvpr_2018/papers/Luo_Fast_and_Furious_CVPR_2018_paper.pdf\n",
    "\n",
    "\n",
    "VoxelNet: End-to-End Learning for Point Cloud Based 3D Object Detection by Y. Zhou and O. Tuzel\n",
    "\n",
    "https://arxiv.org/abs/1711.06396\n",
    "\n",
    "## Other papers on Tracking Multiple Objects and Sensor Fusion\n",
    "The below papers and resources concern tracking multiple objects, using Kalman Filters as well as other techniques! We have not included the abstracts here for brevity, but you should check those out first to see which of these you want to take a look at.\n",
    "\n",
    "Multiple Object Tracking using Kalman Filter and Optical Flow by S. Shantaiya, et. al.\n",
    "http://www.ejaet.com/PDF/2-2/EJAET-2-2-34-39.pdf\n",
    "\n",
    "Kalman Filter Based Multiple Objects Detection-Tracking Algorithm Robust to Occlusion by J-M Jeong, et. al.\n",
    "\n",
    "https://pdfs.semanticscholar.org/f5a2/bf3df3126d2923a617b977ec2b4e1c829a08.pdf\n",
    "\n",
    "\n",
    "Tracking Multiple Moving Objects Using Unscented Kalman Filtering Techniques by X. Chen, et. al.\n",
    "\n",
    "https://arxiv.org/pdf/1802.01235.pdf\n",
    "\n",
    "\n",
    "LIDAR-based 3D Object Perception by M. Himmelsbach, et. al\n",
    "\n",
    "https://velodynelidar.com/lidar/hdlpressroom/pdf/Articles/LIDAR-based%203D%20Object%20Perception.pdf\n",
    "\n",
    "Fast multiple objects detection and tracking fusing color camera and 3D LIDAR for intelligent vehicles by S. Hwang, et. al.\n",
    "\n",
    "https://www.researchgate.net/publication/309503024_Fast_multiple_objects_detection_and_tracking_fusing_color_camera_and_3D_LIDAR_for_intelligent_vehicles\n",
    "\n",
    "3D-LIDAR Multi Object Tracking for Autonomous Driving by A.S. Rachman (long read)\n",
    "\n",
    "https://repository.tudelft.nl/islandora/object/uuid%3Af536b829-42ae-41d5-968d-13bbaa4ec736\n"
   ]
  },
  {
   "cell_type": "code",
   "execution_count": null,
   "metadata": {},
   "outputs": [],
   "source": []
  }
 ],
 "metadata": {
  "kernelspec": {
   "display_name": "Python [conda env:tf_gpu]",
   "language": "python",
   "name": "conda-env-tf_gpu-py"
  },
  "language_info": {
   "codemirror_mode": {
    "name": "ipython",
    "version": 3
   },
   "file_extension": ".py",
   "mimetype": "text/x-python",
   "name": "python",
   "nbconvert_exporter": "python",
   "pygments_lexer": "ipython3",
   "version": "3.7.3"
  }
 },
 "nbformat": 4,
 "nbformat_minor": 2
}
