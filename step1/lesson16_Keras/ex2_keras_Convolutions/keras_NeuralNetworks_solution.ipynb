{
 "cells": [
  {
   "cell_type": "code",
   "execution_count": 1,
   "metadata": {},
   "outputs": [
    {
     "name": "stderr",
     "output_type": "stream",
     "text": [
      "/home/leon/x86_install/anaconda3/lib/python3.6/site-packages/h5py/__init__.py:34: FutureWarning: Conversion of the second argument of issubdtype from `float` to `np.floating` is deprecated. In future, it will be treated as `np.float64 == np.dtype(float).type`.\n",
      "  from ._conv import register_converters as _register_converters\n"
     ]
    }
   ],
   "source": [
    "import pickle\n",
    "import numpy as np\n",
    "import tensorflow as tf\n",
    "\n",
    "# Load pickled data\n",
    "with open('small_train_traffic.p', mode='rb') as f:\n",
    "    data = pickle.load(f)"
   ]
  },
  {
   "cell_type": "code",
   "execution_count": 2,
   "metadata": {
    "collapsed": true
   },
   "outputs": [],
   "source": [
    "# split data\n",
    "X_train, y_train = data['features'], data['labels']"
   ]
  },
  {
   "cell_type": "code",
   "execution_count": 3,
   "metadata": {},
   "outputs": [
    {
     "name": "stderr",
     "output_type": "stream",
     "text": [
      "Using TensorFlow backend.\n"
     ]
    }
   ],
   "source": [
    "# Setup Keras\n",
    "from keras.models import Sequential\n",
    "from keras.layers.core import Dense, Activation, Flatten, Dropout\n",
    "from keras.layers.convolutional import Conv2D\n",
    "from keras.layers.pooling import MaxPool2D"
   ]
  },
  {
   "cell_type": "code",
   "execution_count": 4,
   "metadata": {},
   "outputs": [
    {
     "name": "stdout",
     "output_type": "stream",
     "text": [
      "WARNING:tensorflow:From /home/leon/x86_install/anaconda3/lib/python3.6/site-packages/tensorflow/python/framework/op_def_library.py:263: colocate_with (from tensorflow.python.framework.ops) is deprecated and will be removed in a future version.\n",
      "Instructions for updating:\n",
      "Colocations handled automatically by placer.\n",
      "WARNING:tensorflow:From /home/leon/x86_install/anaconda3/lib/python3.6/site-packages/keras/backend/tensorflow_backend.py:3445: calling dropout (from tensorflow.python.ops.nn_ops) with keep_prob is deprecated and will be removed in a future version.\n",
      "Instructions for updating:\n",
      "Please use `rate` instead of `keep_prob`. Rate should be set to `rate = 1 - keep_prob`.\n"
     ]
    }
   ],
   "source": [
    "# Build the Fully Connected Neural Network in Keras Here\n",
    "model = Sequential()\n",
    "model.add(Conv2D(32,(3,3),input_shape=(32,32,3)))\n",
    "model.add(MaxPool2D((2,2)))\n",
    "model.add(Dropout(0.5))\n",
    "model.add(Activation('relu'))\n",
    "model.add(Flatten())\n",
    "model.add(Dense(128))\n",
    "model.add(Activation('relu'))\n",
    "model.add(Dense(5))\n",
    "model.add(Activation('softmax'))\n",
    "\n",
    "# An Alternative Solution\n",
    "# model = Sequential()\n",
    "# model.add(Flatten(input_shape=(32, 32, 3)))\n",
    "# model.add(Dense(128, activation='relu'))\n",
    "# model.add(Dense(5, activation='softmax'))"
   ]
  },
  {
   "cell_type": "code",
   "execution_count": 5,
   "metadata": {},
   "outputs": [],
   "source": [
    "# preprocess data\n",
    "X_normalized = np.array(X_train / 255.0 - 0.5 )\n",
    "\n",
    "from sklearn.preprocessing import LabelBinarizer\n",
    "label_binarizer = LabelBinarizer()\n",
    "y_one_hot = label_binarizer.fit_transform(y_train)"
   ]
  },
  {
   "cell_type": "code",
   "execution_count": 8,
   "metadata": {},
   "outputs": [
    {
     "name": "stdout",
     "output_type": "stream",
     "text": [
      "Train on 80 samples, validate on 20 samples\n",
      "Epoch 1/15\n",
      "80/80 [==============================] - 0s 3ms/step - loss: 0.3573 - acc: 0.8000 - val_loss: 0.2474 - val_acc: 0.8500\n",
      "Epoch 2/15\n",
      "80/80 [==============================] - 0s 442us/step - loss: 0.2764 - acc: 0.9000 - val_loss: 0.2053 - val_acc: 0.8500\n",
      "Epoch 3/15\n",
      "80/80 [==============================] - 0s 450us/step - loss: 0.2611 - acc: 0.8500 - val_loss: 0.1976 - val_acc: 0.8500\n",
      "Epoch 4/15\n",
      "80/80 [==============================] - 0s 461us/step - loss: 0.2152 - acc: 0.8750 - val_loss: 0.1572 - val_acc: 0.8500\n",
      "Epoch 5/15\n",
      "80/80 [==============================] - 0s 450us/step - loss: 0.2357 - acc: 0.8750 - val_loss: 0.1246 - val_acc: 1.0000\n",
      "Epoch 6/15\n",
      "80/80 [==============================] - 0s 451us/step - loss: 0.1772 - acc: 0.9375 - val_loss: 0.1076 - val_acc: 1.0000\n",
      "Epoch 7/15\n",
      "80/80 [==============================] - 0s 451us/step - loss: 0.1635 - acc: 0.9500 - val_loss: 0.0954 - val_acc: 1.0000\n",
      "Epoch 8/15\n",
      "80/80 [==============================] - 0s 452us/step - loss: 0.1357 - acc: 0.9875 - val_loss: 0.0943 - val_acc: 1.0000\n",
      "Epoch 9/15\n",
      "80/80 [==============================] - 0s 453us/step - loss: 0.1197 - acc: 1.0000 - val_loss: 0.1057 - val_acc: 0.9500\n",
      "Epoch 10/15\n",
      "80/80 [==============================] - 0s 445us/step - loss: 0.1683 - acc: 0.9125 - val_loss: 0.1026 - val_acc: 1.0000\n",
      "Epoch 11/15\n",
      "80/80 [==============================] - 0s 449us/step - loss: 0.1560 - acc: 0.9000 - val_loss: 0.0695 - val_acc: 1.0000\n",
      "Epoch 12/15\n",
      "80/80 [==============================] - 0s 465us/step - loss: 0.0992 - acc: 0.9875 - val_loss: 0.0736 - val_acc: 1.0000\n",
      "Epoch 13/15\n",
      "80/80 [==============================] - 0s 441us/step - loss: 0.1132 - acc: 0.9625 - val_loss: 0.0630 - val_acc: 1.0000\n",
      "Epoch 14/15\n",
      "80/80 [==============================] - 0s 441us/step - loss: 0.0881 - acc: 1.0000 - val_loss: 0.0403 - val_acc: 1.0000\n",
      "Epoch 15/15\n",
      "80/80 [==============================] - 0s 449us/step - loss: 0.0752 - acc: 0.9875 - val_loss: 0.0357 - val_acc: 1.0000\n"
     ]
    }
   ],
   "source": [
    "model.compile('adam', 'categorical_crossentropy', ['accuracy'])\n",
    "history = model.fit(X_normalized, y_one_hot, epochs=15, validation_split=0.2)"
   ]
  },
  {
   "cell_type": "code",
   "execution_count": 9,
   "metadata": {},
   "outputs": [
    {
     "name": "stdout",
     "output_type": "stream",
     "text": [
      "Testing\n",
      "20/20 [==============================] - 0s 111us/step\n",
      "loss: 0.060244422405958176\n",
      "acc: 1.0\n"
     ]
    }
   ],
   "source": [
    "# evaluate model against the test data\n",
    "with open('small_test_traffic.p', 'rb') as f:\n",
    "    data_test = pickle.load(f)\n",
    "\n",
    "X_test = data_test['features']\n",
    "y_test = data_test['labels']\n",
    "\n",
    "# preprocess data\n",
    "X_normalized_test = np.array(X_test / 255.0 - 0.5 )\n",
    "y_one_hot_test = label_binarizer.fit_transform(y_test)\n",
    "\n",
    "print(\"Testing\")\n",
    "\n",
    "metrics = model.evaluate(X_normalized_test, y_one_hot_test)\n",
    "for metric_i in range(len(model.metrics_names)):\n",
    "    metric_name = model.metrics_names[metric_i]\n",
    "    metric_value = metrics[metric_i]\n",
    "    print('{}: {}'.format(metric_name, metric_value))"
   ]
  },
  {
   "cell_type": "code",
   "execution_count": null,
   "metadata": {
    "collapsed": true
   },
   "outputs": [],
   "source": []
  }
 ],
 "metadata": {
  "kernelspec": {
   "display_name": "tf",
   "language": "python",
   "name": "tf"
  },
  "language_info": {
   "codemirror_mode": {
    "name": "ipython",
    "version": 3
   },
   "file_extension": ".py",
   "mimetype": "text/x-python",
   "name": "python",
   "nbconvert_exporter": "python",
   "pygments_lexer": "ipython3",
   "version": "3.6.2"
  }
 },
 "nbformat": 4,
 "nbformat_minor": 2
}
