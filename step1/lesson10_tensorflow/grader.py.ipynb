{
 "cells": [
  {
   "cell_type": "code",
   "execution_count": null,
   "metadata": {},
   "outputs": [],
   "source": [
    "import numpy as np\n",
    "from tensorflow.python.framework.errors import InvalidArgumentError\n",
    "\n",
    "\n",
    "def get_result(student_func):\n",
    "    \"\"\"\n",
    "    Run unit tests against <student_func>\n",
    "    \"\"\"\n",
    "    answer = np.array([0.65900117, 0.24243298, 0.09856589])\n",
    "    result = {\n",
    "        'correct': False,\n",
    "        'feedback': f'That\\'s the wrong answer.  It should print {answer}',\n",
    "        'comment': ''}\n",
    "\n",
    "    try:\n",
    "        output = student_func()\n",
    "        if not isinstance(output, np.ndarray):\n",
    "            result['feedback'] = 'Output is the wrong type.'\n",
    "            result['comment'] = 'The output should come from running the session.'\n",
    "        elif np.allclose(output, [2, 1, 0.1]):\n",
    "            result['feedback'] = 'You\\'re returning the logits.'\n",
    "            result['comment'] = 'You need to apply softmax to the logits and return them.'\n",
    "        elif np.allclose(output, answer):\n",
    "            result['correct'] = True\n",
    "            result['feedback'] = 'That\\'s the correct softmax!'\n",
    "    except InvalidArgumentError as err:\n",
    "        if err.message.startswith('You must feed a value for placeholder tensor'):\n",
    "            result['feedback'] = 'The placeholder is not being set.'\n",
    "            result['comment'] = 'Try using the feed_dict.'\n",
    "        else:\n",
    "            raise\n",
    "\n",
    "    return result\n",
    "\n",
    "def run_grader(student_func):\n",
    "    \n",
    "    try:\n",
    "    # Get grade result information\n",
    "        result = get_result(student_func)\n",
    "    except Exception as err:\n",
    "        # Default error result\n",
    "        result = {\n",
    "            'correct': False,\n",
    "            'feedback': 'Something went wrong with your submission:',\n",
    "            'comment': str(err)}\n",
    "\n",
    "    feedback = result.get('feedback')\n",
    "    comment = result.get('comment')\n",
    "\n",
    "    print(f\"{feedback}\\n{comment}\\n\")\n",
    "\n",
    "\n",
    "\n",
    "if __name__ == \"__main__\":\n",
    "    run_grader(student_func)"
   ]
  }
 ],
 "metadata": {
  "kernelspec": {
   "display_name": "tf_2019",
   "language": "python",
   "name": "tf"
  },
  "language_info": {
   "codemirror_mode": {
    "name": "ipython",
    "version": 3
   },
   "file_extension": ".py",
   "mimetype": "text/x-python",
   "name": "python",
   "nbconvert_exporter": "python",
   "pygments_lexer": "ipython3",
   "version": "3.7.0"
  }
 },
 "nbformat": 4,
 "nbformat_minor": 2
}
