{
 "cells": [
  {
   "cell_type": "markdown",
   "metadata": {},
   "source": [
    "# review\n",
    "Project Steps\n",
    "\n",
    "Steps we’ve covered so far:\n",
    "\n",
    "1.Camera calibration\n",
    "2.Distortion correction\n",
    "3.Color/gradient threshold\n",
    "4.Perspective transform\n",
    "After doing these steps, you’ll be given two additional steps for the project:\n",
    "\n",
    "5.Detect lane lines\n",
    "6.Determine the lane curvature"
   ]
  }
 ],
 "metadata": {
  "kernelspec": {
   "display_name": "Python 3",
   "language": "python",
   "name": "python3"
  },
  "language_info": {
   "codemirror_mode": {
    "name": "ipython",
    "version": 3
   },
   "file_extension": ".py",
   "mimetype": "text/x-python",
   "name": "python",
   "nbconvert_exporter": "python",
   "pygments_lexer": "ipython3",
   "version": "3.6.4"
  }
 },
 "nbformat": 4,
 "nbformat_minor": 2
}
