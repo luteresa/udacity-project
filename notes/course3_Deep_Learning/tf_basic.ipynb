{
 "cells": [
  {
   "cell_type": "markdown",
   "metadata": {},
   "source": [
    "TensorFlow是一个用于训练深度学习模型的强大开源软件库，由Google Brain小组推出；\n",
    "\n",
    "## 1. 计算图\n",
    "基本原理是定义一个用来计算的图，然后TensorFlow就会使用这个图进行运算，最后输出结果。\n",
    "\n",
    "TensorFlow使用的是Python语言，但底层使用C++开发，Python只是做了一层接口而已。\n",
    "![](./tf001.png)"
   ]
  },
  {
   "cell_type": "markdown",
   "metadata": {},
   "source": [
    "## 2.分解任务：\n",
    "\n",
    "TensorFlow重要的功能是，分解任务，将一个复杂任务分解成多个相对简单任务，部署到多GPU, 多核，多计算机中执行，最后汇总计算结果。\n",
    "\n",
    "![](./tf000.png)"
   ]
  },
  {
   "cell_type": "markdown",
   "metadata": {},
   "source": [
    "## 3.TensorFlow实现分布式计算;\n",
    "TensorFow可以部署到多个计算机；\n",
    "\n",
    "## 4.TensorFlow特点：\n",
    "\n",
    "1.跨平台(Windows, Linux, MacOS)\n",
    "\n",
    "2.提供了TF.learn来兼容sk-learn,  TF.learn是从Scikit-flow(sk-flow)演化过来的。\n",
    "\n",
    "3.提供了TF-Slim 库简化神经网络的构建，训练和评估；\n",
    "\n",
    "4.在Tensorflow 之上，建立了很多独立的库，如Keras.\n",
    "\n",
    "5.通过TensorFlow API, 可以非常灵活地创建任何你能想到的神经网络架构。\n",
    "\n",
    "6.包含了很多高效的，使用C++实现的机器学习API。特别是用来构建神经网络的API。\n",
    "\n",
    "7.提供了一个非常强大的称为TensorBoard的可视化工具，可以用来查看计算图，浏览学习曲线。\n"
   ]
  },
  {
   "cell_type": "markdown",
   "metadata": {},
   "source": [
    "TensorFlow基础\n",
    "\n",
    "TensorFlow由两部分组成，Tensor(张量) 和 Flow(流，计算图)，TensorFlow意为张量在图中流动；\n",
    "\n",
    "# Tensor(张量)\n",
    "\n",
    "TensorFlow使用Tensor来表示所有的数据，Tensor可以理解为N维数组或列表。\n",
    "\n",
    "![](./tf002.png)"
   ]
  },
  {
   "cell_type": "markdown",
   "metadata": {},
   "source": [
    "## 1.常量"
   ]
  },
  {
   "cell_type": "code",
   "execution_count": 30,
   "metadata": {},
   "outputs": [
    {
     "name": "stdout",
     "output_type": "stream",
     "text": [
      "Tensor(\"Const_19:0\", shape=(), dtype=string)\n",
      "Tensor(\"Const_20:0\", shape=(), dtype=int32)\n",
      "<class 'tensorflow.python.framework.ops.Tensor'>\n"
     ]
    }
   ],
   "source": [
    "import tensorflow as tf\n",
    "import os\n",
    "\n",
    "#os.environ['TF_CPP_MIN_LOG_LEVEL'] = '1' #默认显示所有信息\n",
    "os.environ['TF_CPP_MIN_LOG_LEVEL'] = '2' # 只显示警告和错误\n",
    "#os.environ['TF_CPP_MIN_LOG_LEVEL'] = '3' # 只显示错误\n",
    "\n",
    "hello = tf.constant('hello')\n",
    "n = tf.constant(99)\n",
    "\n",
    "print(hello)\n",
    "print(n)\n",
    "print(type(hello))"
   ]
  },
  {
   "cell_type": "code",
   "execution_count": 31,
   "metadata": {},
   "outputs": [
    {
     "name": "stdout",
     "output_type": "stream",
     "text": [
      "b'hello'\n"
     ]
    }
   ],
   "source": [
    "session = tf.Session()\n",
    "print(session.run(hello))"
   ]
  },
  {
   "cell_type": "code",
   "execution_count": 32,
   "metadata": {},
   "outputs": [
    {
     "name": "stdout",
     "output_type": "stream",
     "text": [
      "hello\n"
     ]
    }
   ],
   "source": [
    "print(str(session.run(hello),'utf-8'))"
   ]
  },
  {
   "cell_type": "code",
   "execution_count": 33,
   "metadata": {},
   "outputs": [
    {
     "name": "stdout",
     "output_type": "stream",
     "text": [
      "99\n"
     ]
    }
   ],
   "source": [
    "print(session.run(n))"
   ]
  },
  {
   "cell_type": "markdown",
   "metadata": {},
   "source": [
    "# 指定常量的数据类型"
   ]
  },
  {
   "cell_type": "code",
   "execution_count": 34,
   "metadata": {},
   "outputs": [
    {
     "name": "stdout",
     "output_type": "stream",
     "text": [
      "hello tensorflow!\n"
     ]
    }
   ],
   "source": [
    "str_value = tf.constant('hello tensorflow!', dtype=tf.string)\n",
    "print(str(session.run(str_value),'utf-8'))"
   ]
  },
  {
   "cell_type": "code",
   "execution_count": 35,
   "metadata": {},
   "outputs": [
    {
     "name": "stdout",
     "output_type": "stream",
     "text": [
      "32\n"
     ]
    }
   ],
   "source": [
    "\n",
    "print(session.run(tf.constant(32,tf.int32)))"
   ]
  },
  {
   "cell_type": "markdown",
   "metadata": {},
   "source": [
    "# 常量运算"
   ]
  },
  {
   "cell_type": "code",
   "execution_count": 41,
   "metadata": {},
   "outputs": [],
   "source": [
    "x = tf.constant(20)\n",
    "y = tf.constant(60)\n",
    "\n",
    "session = tf.Session()\n",
    "add = tf.add(x,y)\n",
    "sub = tf.subtract(x,y)\n",
    "mul = tf.multiply(x,y)\n",
    "div = tf.divide(x,y)"
   ]
  },
  {
   "cell_type": "code",
   "execution_count": 42,
   "metadata": {},
   "outputs": [
    {
     "name": "stdout",
     "output_type": "stream",
     "text": [
      "80\n",
      "-40\n",
      "1200\n",
      "0.3333333333333333\n"
     ]
    }
   ],
   "source": [
    "print(session.run(add))\n",
    "print(session.run(sub))\n",
    "print(session.run(mul))\n",
    "print(session.run(div))"
   ]
  },
  {
   "cell_type": "code",
   "execution_count": 44,
   "metadata": {},
   "outputs": [
    {
     "name": "stdout",
     "output_type": "stream",
     "text": [
      "1610\n"
     ]
    }
   ],
   "source": [
    "# x*x + x*y + 10\n",
    "result = x * x + x*y +10\n",
    "value = tf.constant(20)\n",
    "print(session.run(result))"
   ]
  },
  {
   "cell_type": "markdown",
   "metadata": {},
   "source": [
    "# 占位符\n",
    "\n",
    "不指定值，可以重用tensor，必须指定类型；"
   ]
  },
  {
   "cell_type": "code",
   "execution_count": 50,
   "metadata": {},
   "outputs": [],
   "source": [
    "input1 = tf.placeholder(tf.int32)\n",
    "input2 = tf.placeholder(tf.int32)"
   ]
  },
  {
   "cell_type": "code",
   "execution_count": 57,
   "metadata": {},
   "outputs": [
    {
     "name": "stdout",
     "output_type": "stream",
     "text": [
      "5\n",
      "30\n",
      "[3 5 7]\n"
     ]
    }
   ],
   "source": [
    "output = tf.add(input1, input2)\n",
    "session = tf.Session()\n",
    "\n",
    "# print(session.run(output)) 直接运行，出错\n",
    "print(session.run(output, feed_dict={input1:2, input2:3}))\n",
    "print(session.run(output, feed_dict={input1:10, input2:20}))\n",
    "print(session.run(output, feed_dict={input1:[1,2,3], input2:[2,3,4]}))"
   ]
  },
  {
   "cell_type": "markdown",
   "metadata": {},
   "source": [
    "# 变量"
   ]
  },
  {
   "cell_type": "code",
   "execution_count": 81,
   "metadata": {},
   "outputs": [
    {
     "data": {
      "text/plain": [
       "3"
      ]
     },
     "execution_count": 81,
     "metadata": {},
     "output_type": "execute_result"
    }
   ],
   "source": [
    "x = tf.Variable(2)\n",
    "y = tf.Variable(3)\n",
    "\n",
    "f = x*x + y +3\n",
    "\n",
    "session = tf.Session()\n",
    "session.run(x.initializer) # 必须调用run, 初始化变量\n",
    "session.run(y.initializer)\n",
    "session.run(y)\n"
   ]
  },
  {
   "cell_type": "code",
   "execution_count": 78,
   "metadata": {},
   "outputs": [
    {
     "data": {
      "text/plain": [
       "10"
      ]
     },
     "execution_count": 78,
     "metadata": {},
     "output_type": "execute_result"
    }
   ],
   "source": [
    "session.run(f)"
   ]
  },
  {
   "cell_type": "code",
   "execution_count": 79,
   "metadata": {},
   "outputs": [
    {
     "data": {
      "text/plain": [
       "10"
      ]
     },
     "execution_count": 79,
     "metadata": {},
     "output_type": "execute_result"
    }
   ],
   "source": [
    "x = 30\n",
    "session.run(f)"
   ]
  },
  {
   "cell_type": "code",
   "execution_count": 82,
   "metadata": {},
   "outputs": [
    {
     "data": {
      "text/plain": [
       "20"
      ]
     },
     "execution_count": 82,
     "metadata": {},
     "output_type": "execute_result"
    }
   ],
   "source": [
    "x.load(10,session)\n",
    "y.load(20,session)\n",
    "session.run(y)"
   ]
  },
  {
   "cell_type": "code",
   "execution_count": 83,
   "metadata": {},
   "outputs": [
    {
     "data": {
      "text/plain": [
       "123"
      ]
     },
     "execution_count": 83,
     "metadata": {},
     "output_type": "execute_result"
    }
   ],
   "source": [
    "session.run(f)"
   ]
  },
  {
   "cell_type": "code",
   "execution_count": 84,
   "metadata": {},
   "outputs": [],
   "source": [
    "session.close()"
   ]
  },
  {
   "cell_type": "code",
   "execution_count": null,
   "metadata": {},
   "outputs": [],
   "source": []
  }
 ],
 "metadata": {
  "kernelspec": {
   "display_name": "Python 3",
   "language": "python",
   "name": "python3"
  },
  "language_info": {
   "codemirror_mode": {
    "name": "ipython",
    "version": 3
   },
   "file_extension": ".py",
   "mimetype": "text/x-python",
   "name": "python",
   "nbconvert_exporter": "python",
   "pygments_lexer": "ipython3",
   "version": "3.7.0"
  }
 },
 "nbformat": 4,
 "nbformat_minor": 2
}
