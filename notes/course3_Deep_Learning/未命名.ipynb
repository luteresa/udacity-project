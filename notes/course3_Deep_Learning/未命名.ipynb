{
 "cells": [
  {
   "cell_type": "markdown",
   "metadata": {},
   "source": [
    "TensorFlow是一个用于训练深度学习模型的强大开源软件库，由Google Brain小组推出；\n",
    "\n",
    "## 1. 计算图\n",
    "基本原理是定义一个用来计算的图，然后TensorFlow就会使用这个图进行运算，最后输出结果。\n",
    "\n",
    "TensorFlow使用的是Python语言，但底层使用C++开发，Python只是做了一层接口而已。\n",
    "![](./tf001.png)"
   ]
  },
  {
   "cell_type": "markdown",
   "metadata": {},
   "source": [
    "## 2.分解任务：\n",
    "\n",
    "TensorFlow重要的功能是，分解任务，将一个复杂任务分解成多个相对简单任务，部署到多GPU, 多核，多计算机中执行，最后汇总计算结果。\n",
    "\n",
    "![](./tf000.png)"
   ]
  },
  {
   "cell_type": "markdown",
   "metadata": {},
   "source": [
    "## 3.TensorFlow实现分布式计算;\n",
    "TensorFow可以部署到多个计算机；\n",
    "\n",
    "## 4.TensorFlow特点：\n",
    "\n",
    "1.跨平台(Windows, Linux, MacOS)\n",
    "\n",
    "2.提供了TF.learn来兼容sk-learn,  TF.learn是从Scikit-flow(sk-flow)演化过来的。\n",
    "\n",
    "3.提供了TF-Slim 库简化神经网络的构建，训练和评估；\n",
    "\n",
    "4.在Tensorflow 之上，建立了很多独立的库，如Keras.\n",
    "\n",
    "5.通过TensorFlow API, 可以非常灵活地创建任何你能想到的神经网络架构。\n",
    "\n",
    "6.包含了很多高效的，使用C++实现的机器学习API。特别是用来构建神经网络的API。\n",
    "\n",
    "7.提供了一个非常强大的称为TensorBoard的可视化工具，可以用来查看计算图，浏览学习曲线。\n"
   ]
  },
  {
   "cell_type": "code",
   "execution_count": null,
   "metadata": {},
   "outputs": [],
   "source": []
  }
 ],
 "metadata": {
  "kernelspec": {
   "display_name": "Python 3",
   "language": "python",
   "name": "python3"
  },
  "language_info": {
   "codemirror_mode": {
    "name": "ipython",
    "version": 3
   },
   "file_extension": ".py",
   "mimetype": "text/x-python",
   "name": "python",
   "nbconvert_exporter": "python",
   "pygments_lexer": "ipython3",
   "version": "3.7.0"
  }
 },
 "nbformat": 4,
 "nbformat_minor": 2
}
