{
 "cells": [
  {
   "cell_type": "markdown",
   "metadata": {},
   "source": [
    "# 绘制高斯分布图\n",
    "\n",
    "在本练习中，你将要使用Python来计算高斯分布概率密度函数，然后将其结果绘制成图。\n",
    "\n",
    "除了matplotlib绘图库之外，这个练习还使用了一个名为numpy的Python库，它 [http://www.numpy.org/](http://www.numpy.org/) 使得在Python中使用数组和矩阵变得更加容易。\n",
    "\n",
    "本练习不关注numpy以及如何使用它，但是我们会提供足够的语境，便于你在代码中使用它。\n",
    "\n",
    "# 练习 1\n",
    "\n",
    "编写一个计算高斯分布概率密度函数的函数。该函数有三个输入和一个输出，它们分别是：\n",
    "\n",
    "**输入**\n",
    "* mu，代表平均值\n",
    "* sigma，代表标准差\n",
    "* 一个x值列表\n",
    "\n",
    "**输出**\n",
    "* 概率密度函数输出\n",
    "\n",
    "提醒一下，下面是高斯分布的概率密度函数：\n",
    "$$f(x) = \\frac{1}{\\sqrt{2\\pi\\sigma{^2}}}e^{\\frac{-(x-\\mu)^2}{2\\sigma^2}}$$\n",
    "\n",
    "#### 使用 numpy\n",
    "要计算Python中的平方、平方根或指数，可以使用数学库；但是，你也可以用numpy库。研究下面的代码，比较一下数学库与numpy库，然后运行代码单元格。"
   ]
  },
  {
   "cell_type": "code",
   "execution_count": 1,
   "metadata": {},
   "outputs": [
    {
     "name": "stdout",
     "output_type": "stream",
     "text": [
      "\n",
      "Example of taking the square\n",
      "4.0\n",
      "4\n",
      "\n",
      "Example of taking the cube\n",
      "8.0\n",
      "8\n",
      "\n",
      "Example of taking the square root\n",
      "2.0\n",
      "2.0\n",
      "\n",
      "Example of taking the exponent\n",
      "20.085536923187668\n",
      "20.0855369232\n"
     ]
    }
   ],
   "source": [
    "import math\n",
    "import numpy as np\n",
    "\n",
    "print('\\nExample of taking the square')\n",
    "print(math.pow(2,2))\n",
    "print(np.square(2))\n",
    "\n",
    "print('\\nExample of taking the cube')\n",
    "print(math.pow(2,3))\n",
    "print(np.power(2,3))\n",
    "\n",
    "print('\\nExample of taking the square root')\n",
    "print(math.sqrt(4))\n",
    "print(np.sqrt(4))\n",
    "\n",
    "print('\\nExample of taking the exponent')\n",
    "print(math.exp(3))\n",
    "print(np.exp(3))"
   ]
  },
  {
   "cell_type": "markdown",
   "metadata": {},
   "source": [
    "#### 在列表中使用numpy\n",
    "\n",
    "numpy库允许你在列表的元素上运行数学表达式，但数学库不能做到这一点。研究下面的例子，然后运行代码单元格。"
   ]
  },
  {
   "cell_type": "code",
   "execution_count": 2,
   "metadata": {},
   "outputs": [
    {
     "name": "stdout",
     "output_type": "stream",
     "text": [
      "\n",
      "Example of squaring elements in a list\n",
      "[ 1  4  9 16 25]\n",
      "\n",
      "Example of taking the square root of a list\n",
      "[ 1.  2.  3.  4.  5.]\n",
      "\n",
      "Examples of taking the cube of a list\n",
      "[  1   8  27  64 125]\n"
     ]
    }
   ],
   "source": [
    "print('\\nExample of squaring elements in a list')\n",
    "print(np.square([1, 2, 3, 4, 5]))\n",
    "\n",
    "print('\\nExample of taking the square root of a list')\n",
    "print(np.sqrt([1, 4, 9, 16, 25]))\n",
    "\n",
    "print('\\nExamples of taking the cube of a list')\n",
    "print(np.power([1, 2, 3, 4, 5], 3))\n"
   ]
  },
  {
   "cell_type": "markdown",
   "metadata": {},
   "source": [
    "#### 在函数中使用numpy\n",
    "\n",
    "这是编写代码之前的最后一个代码示例，该示例显示了如何在函数中使用numpy。"
   ]
  },
  {
   "cell_type": "code",
   "execution_count": 3,
   "metadata": {},
   "outputs": [
    {
     "name": "stdout",
     "output_type": "stream",
     "text": [
      "[   2.71828183    7.3890561    20.08553692   54.59815003  148.4131591 ]\n"
     ]
    }
   ],
   "source": [
    "def numpy_example(x):\n",
    "    return np.exp(x)\n",
    "\n",
    "x = [1, 2, 3, 4, 5]\n",
    "print(numpy_example(x))"
   ]
  },
  {
   "cell_type": "markdown",
   "metadata": {},
   "source": [
    "#### 将你的代码写在下面\n",
    "现在，编写概率密度函数代码。 除了numpy的sqrt、power和exp方法之外，你可能还想使用np.pi方法，该方法会输出pi的值。"
   ]
  },
  {
   "cell_type": "code",
   "execution_count": 26,
   "metadata": {},
   "outputs": [],
   "source": [
    "def gaussian_density(x, mu, sigma):\n",
    "    # TODO: Return the probability density function for the\n",
    "    # Gaussian distribution. \n",
    "    gaussian_probability =  (1.0/(np.sqrt(2*np.pi)*sigma))*np.exp(-np.power(x-mu,2)/(2*np.power(sigma,2)))\n",
    "    return gaussian_probability"
   ]
  },
  {
   "cell_type": "markdown",
   "metadata": {},
   "source": [
    "仔细阅读并运行下面的代码单元格，查看结果。 我们还将在本节课的下一个节点中，即标题为“在Python中绘制高斯分布图 [解决方案]”中，为你提供一个解决方案。\n",
    "\n",
    "在下面的代码单元格中，我们使用了numpy linspace方法，它有三个输入。linspace方法本质上是创建一个值列表。 在下面的例子中，`np.linspace(0, 100, 11)`用11个元素创建了一个从0到100的值列表，即（0,10,20,30,40,50,60,70,80,90,100）。 具体请参阅[linspace 文档](https://docs.scipy.org/doc/numpy-1.13.0/reference/generated/numpy.linspace.html)。"
   ]
  },
  {
   "cell_type": "code",
   "execution_count": 27,
   "metadata": {},
   "outputs": [
    {
     "name": "stdout",
     "output_type": "stream",
     "text": [
      "[  1.48671951e-07   1.33830226e-05   4.43184841e-04   5.39909665e-03\n",
      "   2.41970725e-02   3.98942280e-02   2.41970725e-02   5.39909665e-03\n",
      "   4.43184841e-04   1.33830226e-05   1.48671951e-07]\n"
     ]
    }
   ],
   "source": [
    "# Run this code sell to check your results\n",
    "\n",
    "# numpy linespace creates a list of values called an array\n",
    "x = np.linspace(0, 100, 11)\n",
    "\n",
    "### Expected Answer when running the code cell\n",
    "# array([  1.48671951e-07,   1.33830226e-05,   4.43184841e-04,\n",
    "#         5.39909665e-03,   2.41970725e-02,   3.98942280e-02,\n",
    "#         2.41970725e-02,   5.39909665e-03,   4.43184841e-04,\n",
    "#         1.33830226e-05,   1.48671951e-07])\n",
    "###\n",
    "d=gaussian_density(x, 50, 10)\n",
    "print(d)"
   ]
  },
  {
   "cell_type": "markdown",
   "metadata": {},
   "source": [
    "我们还将解决方案代码放在了本课的下一部分中，即“在Python中绘制高斯分布图[解决方案]”中。\n",
    "\n",
    "# 练习 2\n",
    "\n",
    "编写一个名为plot_gaussian的函数，用于绘制一个高斯函数图。\n",
    "\n",
    "在编程概率练习中，我们举例说明了如何在Python中绘制图表。 我们将在这里提供一些指导，但你可能需要回到这些练习中并研究相关示例。\n",
    "\n",
    "或者，阅读 [matplotlib 文档](https://matplotlib.org/xkcd/users/pyplot_tutorial.html) 也可以。\n",
    "\n",
    "以下是该函数的输入和输出：\n",
    "\n",
    "**输入**\n",
    "\n",
    "* x -  一个numpy的linspace数组\n",
    "* mu - 平均值\n",
    "* sigma - 标准差\n",
    "\n",
    "**输出**\n",
    "\n",
    "这个函数不需要返回语句；此外，这个函数将输出一个可视化文件。"
   ]
  },
  {
   "cell_type": "code",
   "execution_count": 28,
   "metadata": {},
   "outputs": [],
   "source": [
    "import matplotlib.pyplot as plt\n",
    "\n",
    "def plot_gaussian(x, mu, sigma):\n",
    "    # TODO: Use x, mu and sigma to calculate the probability density\n",
    "    # function. Put the results in the y variable.\n",
    "    # You can use your gaussian_density() function \n",
    "    # from the first exercise.\n",
    "    #y = gaussian_density(x,mu,sigma)\n",
    "    y = x\n",
    "        \n",
    "    # TODO: Plot the results in a line chart. See the first example\n",
    "    # in the pyplot tutorial for help: \n",
    "    # https://matplotlib.org/xkcd/users/pyplot_tutorial.html\n",
    "    \n",
    "    # Make sure to label the x axis, y axis and give the chart\n",
    "    # a title.\n",
    "    plt.plot(x,gaussian_density(x,mu,sigma))\n",
    "    plt.xlabel('x variable')\n",
    "    plt.ylabel('probability density function')\n",
    "    plt.title('Gaussion Probability density F')\n",
    "    plt.show()\n",
    "    return None"
   ]
  },
  {
   "cell_type": "markdown",
   "metadata": {},
   "source": [
    "运行下面的代码，查看结果。 你的可视化图应该看起来像这样：\n",
    "\n",
    "![Gaussian results](gaussian_density_results.png)"
   ]
  },
  {
   "cell_type": "code",
   "execution_count": 29,
   "metadata": {},
   "outputs": [
    {
     "data": {
      "image/png": "[encoded data removed]",
      "text/plain": [
       "<matplotlib.figure.Figure at 0x7f007bdfaac8>"
      ]
     },
     "metadata": {
      "needs_background": "light"
     },
     "output_type": "display_data"
    }
   ],
   "source": [
    "# Run this code cell to see the results\n",
    "\n",
    "x = np.linspace(0, 100, 200)\n",
    "plot_gaussian(x, 50, 10)"
   ]
  },
  {
   "cell_type": "markdown",
   "metadata": {},
   "source": [
    "有关编码练习的解决方案，请参考本课的下一部分。\n",
    "\n",
    "在本课的下一部分中，我们将讨论如何从概率密度函数中计算概率。"
   ]
  }
 ],
 "metadata": {
  "kernelspec": {
   "display_name": "Python 3",
   "language": "python",
   "name": "python3"
  },
  "language_info": {
   "codemirror_mode": {
    "name": "ipython",
    "version": 3
   },
   "file_extension": ".py",
   "mimetype": "text/x-python",
   "name": "python",
   "nbconvert_exporter": "python",
   "pygments_lexer": "ipython3",
   "version": "3.6.3"
  }
 },
 "nbformat": 4,
 "nbformat_minor": 2
}
