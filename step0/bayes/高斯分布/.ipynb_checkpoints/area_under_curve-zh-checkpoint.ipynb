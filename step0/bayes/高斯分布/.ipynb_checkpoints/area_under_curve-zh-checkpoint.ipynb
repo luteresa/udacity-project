{
 "cells": [
  {
   "cell_type": "markdown",
   "metadata": {},
   "source": [
    "#  曲线下面积\n",
    "\n",
    "你将使用Python来计算与高斯分布相关的概率。 换句话说，你将学习如何计算概率密度函数下的面积。\n",
    "\n",
    "# SciPy库\n",
    "\n",
    "Python有一个名为[SciPy](https://www.scipy.org/scipylib/index.html)的库，用于运行科学运算与数学计算。你将要特别使用到实现高斯分布的库的一部分。\n",
    "\n",
    "# 示例：概率密度函数\n",
    "\n",
    "下面的代码单元格用两种方法来计算高斯概率密度函数。首先，我们将使用前面练习中的密度函数。 然后，我们将使用SciPy库的实现对结果进行比较。\n",
    "\n",
    "你会看到结果是完全一样的。"
   ]
  },
  {
   "cell_type": "code",
   "execution_count": null,
   "metadata": {},
   "outputs": [],
   "source": [
    "from scipy.stats import norm\n",
    "import numpy as np\n",
    "\n",
    "# our solution to calculate the probability density function\n",
    "def gaussian_density(x, mu, sigma):\n",
    "    return (1/np.sqrt(2*np.pi*np.power(sigma, 2.))) * np.exp(-np.power(x - mu, 2.) / (2 * np.power(sigma, 2.)))\n",
    "\n",
    "print(\"Probability density function our solution: mu = 50, sigma = 10, x = 50\")\n",
    "print(gaussian_density(50, 50, 10))\n",
    "print(\"\\nProbability density function SciPy: mu = 50, sigma = 10, x = 50\")\n",
    "print(norm(loc = 50, scale = 10).pdf(50))"
   ]
  },
  {
   "cell_type": "markdown",
   "metadata": {},
   "source": [
    "你可能想知道为什么高斯分布在SciPy库中被称为“norm” ，这是因为高斯分布也称为正态分布。\n",
    "\n",
    "此外，请注意，要初始化分配，loc关键字是平均值，scale关键字是标准差。\n",
    "\n",
    "# 计算概率\n",
    "\n",
    "概率密度函数下的面积表示概率。你的任务是编写一个用于计算两个x值之间的概率的函数。例如，使用旧金山冬季气温的例子，气温在30度到50度之间的概率是多少？\n",
    "\n",
    "SciPy库有一个函数，可以帮你计算曲线下方的面积。它被称为cdf ([cumulative density function](https://en.wikipedia.org/wiki/Cumulative_distribution_function))。 你可以使用与pdf方法类似的cdf SciPy方法。 运行下面的代码单元格，查看示例。"
   ]
  },
  {
   "cell_type": "code",
   "execution_count": null,
   "metadata": {},
   "outputs": [],
   "source": [
    "norm(loc = 50, scale = 10).cdf(50)"
   ]
  },
  {
   "cell_type": "markdown",
   "metadata": {},
   "source": [
    "为什么输出值是0.5？ 通过cdf方法，你可以根据输入值，得出从x = 负无穷大到曲线下方的面积，在这种情况下，输入值是50。曲线下方面积为0.5，表示气温介于负无穷大到50度之间的概率为50％。\n",
    "\n",
    "运行下面的代码单元格，查看从负无穷大到50的曲线下方的面积的可视化。"
   ]
  },
  {
   "cell_type": "code",
   "execution_count": null,
   "metadata": {},
   "outputs": [],
   "source": [
    "import matplotlib.pyplot as plt\n",
    "%matplotlib inline  \n",
    "\n",
    "### \n",
    "# The plot_fill function plots a probability density function and also\n",
    "# shades the area under the curve between x_prob_min and x_prob_max.\n",
    "# INPUTS:\n",
    "# x: x-axis values for plotting\n",
    "# x_prob_min: minimum x-value for shading the visualization\n",
    "# x_prob_max: maximum x-value for shading the visualization\n",
    "# y_lim: the highest y-value to show on the y-axis\n",
    "# title: visualization title\n",
    "#\n",
    "# OUTPUTS:\n",
    "# prints out a visualization\n",
    "### \n",
    "\n",
    "def plot_fill(x, x_prob_min, x_prob_max, y_lim, title):\n",
    "    # Calculate y values of the probability density function\n",
    "    # Note that the pdf method can accept an array of values from numpy linspace.\n",
    "    y = norm(loc = 50, scale = 10).pdf(x)\n",
    "    \n",
    "    # Calculate values for filling the area under the curve\n",
    "    x_fill = np.linspace(x_prob_min, x_prob_max, 1000)\n",
    "    y_fill = norm(loc = 50, scale = 10).pdf(x_fill)\n",
    "    \n",
    "    # Plot the results\n",
    "    plt.plot(x, y)\n",
    "    plt.fill_between(x_fill, y_fill)\n",
    "    plt.title(title)\n",
    "    plt.ylim(0, y_lim)\n",
    "    plt.xticks(np.linspace(0, 100, 21))\n",
    "    plt.xlabel('Temperature (Fahrenheit)')\n",
    "    plt.ylabel('probability density function')\n",
    "    plt.show()\n",
    "\n",
    "average = 50\n",
    "stdev = 10\n",
    "y_lim = 0.05\n",
    "x = np.linspace(0, 100, 1000)\n",
    "\n",
    "plot_fill(x, 0, 50, y_lim,\n",
    "          'Gaussian Distribution, Average = ' + str(average) + ', Stdev ' + str(stdev))"
   ]
  },
  {
   "cell_type": "markdown",
   "metadata": {},
   "source": [
    "# 更多示例\n",
    "\n",
    "以下是cdf方法的更多示例。下面的代码单元格将输出气温在以下区间的概率：\n",
    "* 负无穷大到25\n",
    "* 负无穷大到75\n",
    "* 负无穷大到125\n",
    "* 负无穷大到正无穷大"
   ]
  },
  {
   "cell_type": "code",
   "execution_count": null,
   "metadata": {},
   "outputs": [],
   "source": [
    "print(norm(loc = 50, scale = 10).cdf(25))\n",
    "print(norm(loc = 50, scale = 10).cdf(75))\n",
    "print('%.20f' % norm(loc = 50, scale = 10).cdf(125)) # '%.20f' prints out 20 decimal places\n",
    "print(norm(loc = 50, scale = 10).cdf(float('inf')))"
   ]
  },
  {
   "cell_type": "markdown",
   "metadata": {},
   "source": [
    "如果你想知道气温在25和正无穷大之间的概率是什么，或75和正无穷大之间的概率，该怎么办呢？\n",
    "\n",
    "你知道从负无穷大到正无穷大的曲线下方面积等于1，并且cdf函数可以返回从负无穷大到25之间的概率。\n",
    "\n",
    "所以如果你想知道从25到正无穷大的概率，你可以做如下的计算："
   ]
  },
  {
   "cell_type": "code",
   "execution_count": null,
   "metadata": {},
   "outputs": [],
   "source": [
    "print(1 - norm(loc = 50, scale = 10).cdf(25))"
   ]
  },
  {
   "cell_type": "markdown",
   "metadata": {},
   "source": [
    "需要注意的是，对于这个特定的高斯分布，气温在负无穷大和75之间的概率与从25到正无穷大的概率相同。这是由于高斯分布的对称性：25和75与平均值50的距离都是25。\n",
    "\n",
    "# 练习\n",
    "\n",
    "如果你想知道气温在25到75之间的概率，该怎么办？ 根据你目前看到的内容，你可以根据获得所有需要的信息，编写一个用于做这个计算的函数。\n",
    "\n",
    "运行下面的代码单元，获取有关如何执行此操作的提示。代码单元输出几个区间的曲线下方面积的可视化，这几个区间分别是从负无穷大到25、从负无穷大到75以及从25到75。\n",
    "\n",
    "请牢记，cdf方法可以用来计算从负无穷大到你指定数字的曲线下方面积。你如何使用这些信息来计算25 **与** 75之间的概率？ 其实，25与75之间的概率等于25与75之间的曲线下方面积。"
   ]
  },
  {
   "cell_type": "code",
   "execution_count": null,
   "metadata": {},
   "outputs": [],
   "source": [
    "average = 50\n",
    "stdev = 10\n",
    "y_lim = 0.05\n",
    "x = np.linspace(0, 100, 1000)\n",
    "\n",
    "plot_fill(x, 0, 25, y_lim,\n",
    "          'Gaussian Distribution, Average = ' + str(average) + ', Stdev ' + str(stdev))\n",
    "\n",
    "plot_fill(x, 0, 75, y_lim,\n",
    "          'Gaussian Distribution, Average = ' + str(average) + ', Stdev ' + str(stdev))\n",
    "\n",
    "plot_fill(x, 25, 75, y_lim,\n",
    "          'Gaussian Distribution, Average = ' + str(average) + ', Stdev ' + str(stdev))"
   ]
  },
  {
   "cell_type": "markdown",
   "metadata": {},
   "source": [
    "在下面填写你的代码。该函数有四个输入和一个输出。 下面是输入值：\n",
    "\n",
    "**输入**\n",
    "* mean - 高斯分布均值\n",
    "* stdev - 高斯分布标准差\n",
    "* x_low - 概率范围的上限\n",
    "* x_high - 概率范围的下限\n",
    "\n",
    "**输出**\n",
    "* x值介于x_low和x_high之间的概率\n",
    "\n",
    " 我们在本课的下一个小节中，即标题为“在Python中计算曲线下方的面积[解决方案]”中，提供了一个解决方案。"
   ]
  },
  {
   "cell_type": "code",
   "execution_count": null,
   "metadata": {},
   "outputs": [],
   "source": [
    "def gaussian_probability(mean, stdev, x_low, x_high):\n",
    "    # TODO: return the Gaussian distribution probability\n",
    "    # that the x-value is between x_low and x_high\n",
    "    \n",
    "    # Use the SciPy library norm.cdf method\n",
    "    return 0"
   ]
  },
  {
   "cell_type": "markdown",
   "metadata": {},
   "source": [
    "运行下面的代码单元格，测试你的结果。本课的下一小节将提供一个解决方案。"
   ]
  },
  {
   "cell_type": "code",
   "execution_count": null,
   "metadata": {},
   "outputs": [],
   "source": [
    "assert float('{0:.8f}'.format(gaussian_probability(50, 10, 25, 75))) == 0.98758067\n",
    "assert float('{0:.2f}'.format(gaussian_probability(50, 10, float('-inf'), float('inf')))) == 1.0\n",
    "assert float('{0:.8f}'.format(gaussian_probability(50, 10, 20, 60))) == 0.83999485\n",
    "print('All tests passed')"
   ]
  }
 ],
 "metadata": {},
 "nbformat": 4,
 "nbformat_minor": 2
}
