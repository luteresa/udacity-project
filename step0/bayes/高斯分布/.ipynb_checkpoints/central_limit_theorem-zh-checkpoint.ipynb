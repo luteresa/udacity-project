{
 "cells": [
  {
   "cell_type": "markdown",
   "metadata": {},
   "source": [
    "# 中心极限定理\n",
    "\n",
    "在本节中，我们将向你介绍如何运用中心极限定理。我们将：\n",
    "* 从总体中生成随机样本\n",
    "* 获取样本均值\n",
    "* 将结果均值可视化\n",
    "\n",
    "你会看到，虽然总体不遵循高斯分布，但样本均值的结果分布确实看起来符合高斯分布。\n",
    "\n",
    "要开始整个任务，请运行下面的代码单元格。这个单元格将通过运行一个辅助函数来创建总体数据，然后将总体数据可视化，并计算总体数据的平均值。总人口中有10,000个数据点。\n",
    "\n",
    "如果多次运行该单元格，你会发现分布稍有变化；但是，总体形状保持不变。"
   ]
  },
  {
   "cell_type": "code",
   "execution_count": null,
   "metadata": {},
   "outputs": [],
   "source": [
    "import helpers\n",
    "import numpy as np\n",
    "%matplotlib inline\n",
    "\n",
    "population_data = helpers.distribution(50, 10000, 100)\n",
    "helpers.histogram_visualization(population_data)\n",
    "print('population mean ', np.mean(population_data))"
   ]
  },
  {
   "cell_type": "markdown",
   "metadata": {},
   "source": [
    "# 从人口中抽样\n",
    "\n",
    "下一个代码单元格将随机从总体中选择N个数据点。这N个数据点将被称为样本。我们使用numpy库的random.choice方法随机选择N个值，你可以在 [这里](https://docs.scipy.org/doc/numpy-1.13.0/reference/generated/numpy.random.choice.html) 读取这些值。\n",
    "\n",
    "运行下面的代码单元格，查看一些示例输出。该代码从总体中随机抽取10个数据点，制作一个大小为10的样本。"
   ]
  },
  {
   "cell_type": "code",
   "execution_count": null,
   "metadata": {},
   "outputs": [],
   "source": [
    "def random_sample(population_data, sample_size):\n",
    "    return np.random.choice(population_data, size = sample_size)\n",
    "\n",
    "random_sample(population_data, 10)"
   ]
  },
  {
   "cell_type": "markdown",
   "metadata": {},
   "source": [
    "# 计算样本均值\n",
    "\n",
    "接下来我们将使用numpy库来计算每个随机生成的样本的平均值。"
   ]
  },
  {
   "cell_type": "code",
   "execution_count": null,
   "metadata": {},
   "outputs": [],
   "source": [
    "def sample_mean(sample):\n",
    "    return np.mean(sample)\n",
    "\n",
    "# take a sample from the population\n",
    "example_sample = random_sample(population_data, 10)\n",
    "\n",
    "# calculate the mean of the sample and output the results\n",
    "sample_mean(example_sample)"
   ]
  },
  {
   "cell_type": "markdown",
   "metadata": {},
   "source": [
    "# 中心极限定理结果\n",
    "\n",
    "现在，我们将使用random_sample（）函数和sample_mean（）函数来演示中心极限定理是如何运用的。\n",
    "\n",
    "下面的代码包含一个for循环，该循环会制作一个大小为N的随机样本，然后取样本的均值，并将该均值存储在列表中。 for循环的每次迭代都会有一个不同的随机样本。研究下面的代码，然后运行该单元格。"
   ]
  },
  {
   "cell_type": "code",
   "execution_count": null,
   "metadata": {},
   "outputs": [],
   "source": [
    "###\n",
    "# Code for showing how the central limit theorem works.\n",
    "# The function inputs:\n",
    "# population - population data\n",
    "# n - sample size\n",
    "# iterations - number of times to draw random samples\n",
    "\n",
    "def central_limit_theorem(population, n, iterations):\n",
    "    sample_means_results = []\n",
    "    for i in range(iterations):\n",
    "        # get a random sample from the population of size n\n",
    "        sample = random_sample(population, n)\n",
    "        \n",
    "        # calculate the mean of the random sample \n",
    "        # and append the mean to the results list\n",
    "        sample_means_results.append(sample_mean(sample))\n",
    "    return sample_means_results\n",
    "\n",
    "print('Means of all the samples ')\n",
    "central_limit_theorem(population_data, 10, 10000)"
   ]
  },
  {
   "cell_type": "markdown",
   "metadata": {},
   "source": [
    "# 将结果可视化 —— 样本容量= 30\n",
    "\n",
    "下一个单元格将计算每个大小为30的一万个样本的均值，然后使用直方图将样本均值可视化。需要注意的是，这个可视化结果大致与高斯分布类似。"
   ]
  },
  {
   "cell_type": "code",
   "execution_count": null,
   "metadata": {},
   "outputs": [],
   "source": [
    "import matplotlib.pyplot as plt\n",
    "\n",
    "def visualize_results(sample_means):\n",
    "\n",
    "    plt.hist(sample_means, bins = 30)\n",
    "    plt.title('Histogram of the Sample Means')\n",
    "    plt.xlabel('Mean Value')\n",
    "    plt.ylabel('Count')\n",
    "\n",
    "# Take random sample and calculate the means\n",
    "sample_means_results = central_limit_theorem(population_data, 30, 10000)\n",
    "\n",
    "# Visualize the results\n",
    "visualize_results(sample_means_results)"
   ]
  },
  {
   "cell_type": "markdown",
   "metadata": {},
   "source": [
    "所以我们刚开始使用的人口样本肯定不符合高斯分布。但是，通过对分布样本进行抽样并计算样本均值，我们最终会看到一些看起来像高斯分布的东西。\n",
    "\n",
    "# 将结果可视化 —— 样本容量= 1\n",
    "\n",
    "根据中心极限定理，样本容量需要足够大。一般的经验法则是样本容量应该大于或等于30。让我们尝试使用不同的样本容量来查看会有什么不同的结果。\n",
    "\n",
    "一个比较夸张的情况是样本容量为1。它的分布应该与原始人口的分布类似。运行下面的代码，查看结果。"
   ]
  },
  {
   "cell_type": "code",
   "execution_count": null,
   "metadata": {},
   "outputs": [],
   "source": [
    "# Take random sample and calculate the means\n",
    "sample_means_results = central_limit_theorem(population_data, 1, 10000)\n",
    "\n",
    "# Visualize the results\n",
    "visualize_results(sample_means_results)"
   ]
  },
  {
   "cell_type": "markdown",
   "metadata": {},
   "source": [
    "# 将结果可视化 ——**样本**容量= 10\n",
    "\n",
    "现在，我们使用建议的最小样本容量，即30，看看会发生什么。"
   ]
  },
  {
   "cell_type": "code",
   "execution_count": null,
   "metadata": {},
   "outputs": [],
   "source": [
    "# Take random sample and calculate the means\n",
    "sample_means_results = central_limit_theorem(population_data, 10, 10000)\n",
    "\n",
    "# Visualize the results\n",
    "visualize_results(sample_means_results)"
   ]
  },
  {
   "cell_type": "markdown",
   "metadata": {},
   "source": [
    "样本容量为10时，样本均值的分布看起来类似高斯分布。\n",
    "\n",
    "# 将结果可视化 —— 样本容量= 1000\n",
    "\n",
    "让我们继续尝试，并使用更大的样本容量：这次为1000。"
   ]
  },
  {
   "cell_type": "code",
   "execution_count": null,
   "metadata": {},
   "outputs": [],
   "source": [
    "# Take random sample and calculate the means\n",
    "sample_means_results = central_limit_theorem(population_data, 1000, 10000)\n",
    "\n",
    "# Visualize the results\n",
    "visualize_results(sample_means_results)"
   ]
  },
  {
   "cell_type": "markdown",
   "metadata": {},
   "source": [
    "这个结果不仅看起来类似高斯分布，而且你可以看到另一种趋势：数据的离散性（即标准差）随着样本容量的增加而减小。\n",
    "\n",
    "# 将结果可视化 —— 样本容量= 10000\n",
    "\n",
    "如果样本容量等于人口数量，会发生什么情况？因为我们[随机抽样进行替换](http://stattrek.com/statistics/dictionary.aspx?definition=Sampling_with_replacement)，所以其中一个样本不太可能是完全的人口数据；然而，由于每个样本可能与人口相似，因此标准差应该进一步降低。"
   ]
  },
  {
   "cell_type": "code",
   "execution_count": null,
   "metadata": {},
   "outputs": [],
   "source": [
    "# Take random sample and calculate the means\n",
    "sample_means_results = central_limit_theorem(population_data, 10000, 10000)\n",
    "\n",
    "# Visualize the results\n",
    "visualize_results(sample_means_results)"
   ]
  },
  {
   "cell_type": "markdown",
   "metadata": {},
   "source": [
    "# 结论 \n",
    "我们还要注意，这些分布的中心接近原始人口均值。\n",
    "\n",
    "想一想是否要收集现实世界中的数据。如果你想找到世界各地人口的身高分布，你可以测量每个人的身高并分析结果。如果使用该结果的均值，那么你将获得真实的人体高度平均值；然而，要使用这个办法去衡量整个世界人口是不可行的。\n",
    "\n",
    "相反，你可以使用身高的一个样本。如果只测量了三十人，你的抽样均值可能会与人口平均值相差较大。但是，如果测量了20亿个随机选择的人，那么样本均值可能更接近人口均值。你的样本越大，样本均值就越可能与真实的人口均值相匹配。"
   ]
  }
 ],
 "metadata": {},
 "nbformat": 4,
 "nbformat_minor": 2
}
