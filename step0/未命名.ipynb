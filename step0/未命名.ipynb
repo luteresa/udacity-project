{
 "cells": [
  {
   "cell_type": "markdown",
   "metadata": {},
   "source": [
    "Bayesian\n",
    "\n",
    "很久以前Thomas Bayes神父为了证明上帝的存在，发明了贝叶斯公式(Bayes'rule)，在机器人领域，贝叶斯公式是最吸引人的技术之一。\n",
    "\n",
    "why?一般的人工智能研究者曾经假设世界上的任何事物都是已知的，当这个世界有缺陷的时候，这种假设将会导致致命的错误。\n",
    "\n",
    "贝叶斯公式允许这个世界存在一定概率的未知，人们可能不知道答案，要通过探索世界来获取信息，这种收集信息的数学框架理论叫做统计学，而贝叶斯公式是统计学的核心，"
   ]
  },
  {
   "cell_type": "code",
   "execution_count": null,
   "metadata": {},
   "outputs": [],
   "source": []
  }
 ],
 "metadata": {
  "kernelspec": {
   "display_name": "Python [conda env:tf_gpu]",
   "language": "python",
   "name": "conda-env-tf_gpu-py"
  },
  "language_info": {
   "codemirror_mode": {
    "name": "ipython",
    "version": 3
   },
   "file_extension": ".py",
   "mimetype": "text/x-python",
   "name": "python",
   "nbconvert_exporter": "python",
   "pygments_lexer": "ipython3",
   "version": "3.7.3"
  }
 },
 "nbformat": 4,
 "nbformat_minor": 2
}
