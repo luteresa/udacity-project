{
 "cells": [
  {
   "cell_type": "markdown",
   "metadata": {},
   "source": [
    "# 运动规划问题：\n",
    "\n",
    "![](./tg000.png)\n"
   ]
  },
  {
   "cell_type": "markdown",
   "metadata": {},
   "source": [
    "## 配置空间\n",
    "\n",
    "配置空间：定义机器人的所有可能配置，一般在二维空间中，定义为[x,y, theat]，即二维坐标加方向。\n",
    "\n",
    "## 运动规划：\n",
    "\n",
    "就是根据初始配置(由定位模块传感器获得)，目的配置(由行为规划模块获得)，在一定的限制条件下(车辆属性，交通法规)，结合预测模块(提供有关障碍区域随时间演进的信息)，在配置空间中，生成一个可执行的运动序列(纳入了其他车辆及行人考量)。\n",
    "\n",
    "这些运动(可转化为车辆的最终指令，比如刹车，油门，转向)将驱动机器人，从开始配置移动到目标配置，过程中会绕开障碍物，\n"
   ]
  },
  {
   "cell_type": "markdown",
   "metadata": {},
   "source": [
    "讨论规划算法时，常需要考虑两个重要因素，完整性和最优性\n",
    "![](./tg001.png)"
   ]
  },
  {
   "cell_type": "markdown",
   "metadata": {},
   "source": [
    "# 运动规划算法有很多种，包括\n",
    "\n",
    "**组合法**：将自由空间分成小块，然后将这些原子元素链接起来，解决运动规划问题；这种方法与我们直觉相符，去发现最初的近似解；但当环境规模扩大后，这种方法表现不佳；\n",
    "\n",
    "**位势场算法**：是反馈算法，每个障碍物会产生一种反重力场，这使车辆不会去靠近它们。比如算法轨迹会绕过行人和自行车；\n",
    "位势场算法的主要问题是，有时候它会把我们带入局部极小值中。难以找到最合适解；\n",
    "\n",
    "**最优控制法**：通过算法来生成控制PoD，使用动态模型，为车辆，最初配置和最终配置建模，概算法需要我们生成一系列的输入，比如转向和减速，这些输入会把我们从开始配置带到最终配置。在此过程中，算法会优化与控制输入，车辆配置等相关的成本函数。比如最小汽油消耗。这种算法有多种实现方式，大部分都基于数值优化法；\n",
    "\n",
    "但是要把所有与其他车辆相关的限制都很好地纳入考量，还要使算法很快地的得出结果，是相当困难的。\n",
    "\n",
    "**抽样算法**：使用一个基于碰撞检测的模块，该模块探测自由空间，测试是否一个配置在其中会发生碰撞，不同于组合法和最优控制法(这两种方法均需要分析整个环境)，抽样法不需要检测所有自由空间，便可以发现一条路径，搜索过的路径保存在一个图结构中，然后使用图搜索算法例如$D^\\star 或者A^\\star$来搜索。\n",
    "\n",
    "![](./tg002.png)"
   ]
  },
  {
   "cell_type": "markdown",
   "metadata": {},
   "source": [
    "## 有两种方法可以认定是基于抽样的，\n",
    "\n",
    "**离散法**：它依赖于构造良好的辅助集合或者输入，比如覆盖在我们配置空间上的一张格子图；\n",
    "\n",
    "**概率统计法**：它依赖连续配置空间的概率样本，待探索的可能配置或者状态集，可能是无穷多的，这让这类算法具有一种不错的性质，那就是它们是概率完整的，并且有时候概率的优化，意味着它们最终会找出一个解来，前提是给予足够的计算时间。\n",
    "\n",
    "![](./tg005.png)"
   ]
  },
  {
   "cell_type": "markdown",
   "metadata": {},
   "source": [
    "# $Hybrid A^\\star$"
   ]
  },
  {
   "cell_type": "markdown",
   "metadata": {},
   "source": [
    "## 1.混合$A^\\star$的更新方程\n",
    "(假设无人车为自行人模型)\n",
    "\n",
    "![](./tg101.png)\n",
    "\n",
    "这个方程对于绝大部分具有X，Y域的配置空间是通用的。\n",
    "\n",
    "无人车应用中，$\\omega$是个受限值，因为无人车不可能围绕Z周无限转动(扫地机器人可以)。"
   ]
  },
  {
   "cell_type": "markdown",
   "metadata": {},
   "source": [
    "\n",
    "\n",
    "假设最大转向角（左右均）为$35^o$，可以用3种新的基本运动来扩展搜索树，搜索迷宫效果\n",
    "\n",
    "![](./tg103.png)"
   ]
  },
  {
   "cell_type": "markdown",
   "metadata": {},
   "source": [
    "去掉多余信息，得到一条平滑的可驾驶曲线。\n",
    "\n",
    "![](./tg104.png)\n",
    "\n",
    "1.不是最优的，也不一定是最平滑的。；\n",
    "\n",
    "2.有时候找不出存在解(为了实现连续，丢弃了部分网格扩展方向的完整性)；\n",
    "为了解决该问题，可以给搜索空间添加第三维，即朝向，这样不会过早关闭实际有解的配置空间。"
   ]
  },
  {
   "cell_type": "markdown",
   "metadata": {},
   "source": [
    "和标准$A^\\star$相比，混合$A^\\star$牺牲了少许完整性和优化性，但是确保了可驾驶性。\n",
    "\n",
    "![](./tg100.png)\n",
    "\n",
    "而在实际应用中，混合$A^\\star$效率极高，而且几乎每次都可以找到不错的路径。"
   ]
  },
  {
   "cell_type": "markdown",
   "metadata": {},
   "source": [
    "## 2. $Hybrid A^\\star$的启发函数\n",
    "\n",
    "The paper Junior: The Stanford Entry in the Urban Challenge is a good read overall, but Section 6.3 - Free Form Navigation is especially good and goes into detail about how the Stanford team thought about heuristics for their Hybrid A* algorithm (which they tended to use in parking lots).\n",
    "\n",
    "https://d17h27t6h515a5.cloudfront.net/topher/2017/July/595fe838_junior-the-stanford-entry-in-the-urban-challenge/junior-the-stanford-entry-in-the-urban-challenge.pdf"
   ]
  },
  {
   "cell_type": "markdown",
   "metadata": {},
   "source": [
    "伪代码实现：\n",
    "```\n",
    "def expand(state, goal):\n",
    "    next_states = []\n",
    "    for delta in range(-35, 40, 5): \n",
    "        # Create a trajectory with delta as the steering angle using \n",
    "        # the bicycle model:\n",
    "\n",
    "        # ---Begin bicycle model---\n",
    "        delta_rad = deg_to_rad(delta)\n",
    "        omega = SPEED/LENGTH * tan(delta_rad)\n",
    "        next_x = state.x + SPEED * cos(theta)\n",
    "        next_y = state.y + SPEED * sin(theta)\n",
    "        next_theta = normalize(state.theta + omega)\n",
    "        # ---End bicycle model-----\n",
    "\n",
    "        next_g = state.g + 1\n",
    "        next_f = next_g + heuristic(next_x, next_y, goal)\n",
    "\n",
    "        # Create a new State object with all of the \"next\" values.\n",
    "        state = State(next_x, next_y, next_theta, next_g, next_f)\n",
    "        next_states.append(state)\n",
    "\n",
    "    return next_states\n",
    "\n",
    "def search(grid, start, goal):\n",
    "    # The opened array keeps track of the stack of States objects we are \n",
    "    # searching through.\n",
    "    opened = []\n",
    "    # 3D array of zeros with dimensions:\n",
    "    # (NUM_THETA_CELLS, grid x size, grid y size).\n",
    "    closed = [[[0 for x in range(grid[0])] for y in range(len(grid))] \n",
    "        for cell in range(NUM_THETA_CELLS)]\n",
    "    # 3D array with same dimensions. Will be filled with State() objects \n",
    "    # to keep track of the path through the grid. \n",
    "    came_from = [[[0 for x in range(grid[0])] for y in range(len(grid))] \n",
    "        for cell in range(NUM_THETA_CELLS)]\n",
    "\n",
    "    # Create new state object to start the search with.\n",
    "    x = start.x\n",
    "    y = start.y\n",
    "    theta = start.theta\n",
    "    g = 0\n",
    "    f = heuristic(start.x, start.y, goal)\n",
    "    state = State(x, y, theta, 0, f)\n",
    "    opened.append(state)\n",
    "\n",
    "    # The range from 0 to 2pi has been discretized into NUM_THETA_CELLS cells. \n",
    "    # Here, theta_to_stack_number returns the cell that theta belongs to. \n",
    "    # Smaller thetas (close to 0 when normalized  into the range from 0 to \n",
    "    # 2pi) have lower stack numbers, and larger thetas (close to 2pi when \n",
    "    # normalized) have larger stack numbers.\n",
    "    stack_num = theta_to_stack_number(state.theta)\n",
    "    closed[stack_num][index(state.x)][index(state.y)] = 1\n",
    "\n",
    "    # Store our starting state. For other states, we will store the previous \n",
    "    # state in the path, but the starting state has no previous.\n",
    "    came_from[stack_num][index(state.x)][index(state.y)] = state\n",
    "\n",
    "    # While there are still states to explore:\n",
    "    while opened:\n",
    "        # Sort the states by f-value and start search using the state with the \n",
    "        # lowest f-value. This is crucial to the A* algorithm; the f-value \n",
    "        # improves search efficiency by indicating where to look first.\n",
    "        opened.sort(key=lambda state:state.f)\n",
    "        current = opened.pop(0)\n",
    "\n",
    "        # Check if the x and y coordinates are in the same grid cell \n",
    "        # as the goal. (Note: The idx function returns the grid index for \n",
    "        # a given coordinate.)\n",
    "        if (idx(current.x) == goal[0]) and (idx(current.y) == goal.y):\n",
    "            # If so, the trajectory has reached the goal.\n",
    "            return path\n",
    "\n",
    "        # Otherwise, expand the current state to get a list of possible \n",
    "        # next states.\n",
    "        next_states = expand(current, goal)\n",
    "        for next_s in next_states:\n",
    "            # If we have expanded outside the grid, skip this next_s.\n",
    "            if next_s is not in the grid:\n",
    "                continue\n",
    "            # Otherwise, check that we haven't already visited this cell and\n",
    "            # that there is not an obstacle in the grid there.\n",
    "            stack_num = theta_to_stack_number(next_s.theta)\n",
    "            if closed[stack_num][idx(next_s.x)][idx(next_s.y)] == 0 \n",
    "                and grid[idx(next_s.x)][idx(next_s.y)] == 0:\n",
    "                # The state can be added to the opened stack.\n",
    "                opened.append(next_s)\n",
    "                # The stack_number, idx(next_s.x), idx(next_s.y) tuple \n",
    "                # has now been visited, so it can be closed.\n",
    "                closed[stack_num][idx(next_s.x)][idx(next_s.y)] = 1\n",
    "                # The next_s came from the current state, and is recorded.\n",
    "                came_from[stack_num][idx(next_s.x)][idx(next_s.y)] = current\n",
    "```"
   ]
  },
  {
   "cell_type": "markdown",
   "metadata": {},
   "source": [
    "代码实现：\n",
    "\n",
    "```cpp\n",
    "HBF::maze_path HBF::search(vector< vector<int> > &grid, vector<double> &start, \n",
    "                           vector<int> &goal) {\n",
    "  // Working Implementation of breadth first search. Does NOT use a heuristic\n",
    "  //   and as a result this is pretty inefficient. Try modifying this algorithm \n",
    "  //   into hybrid A* by adding heuristics appropriately.\n",
    "\n",
    "  /**\n",
    "   * TODO: Add heuristics and convert this function into hybrid A*\n",
    "   */\n",
    "  vector<vector<vector<int>>> closed(\n",
    "    NUM_THETA_CELLS, vector<vector<int>>(grid[0].size(), vector<int>(grid.size())));\n",
    "  vector<vector<vector<maze_s>>> came_from(\n",
    "    NUM_THETA_CELLS, vector<vector<maze_s>>(grid[0].size(), vector<maze_s>(grid.size())));\n",
    "  double theta = start[2];\n",
    "  int stack = theta_to_stack_number(theta);\n",
    "  int g = 0;\n",
    "\n",
    "  maze_s state;\n",
    "  state.g = g;\n",
    "  state.x = start[0];\n",
    "  state.y = start[1];\n",
    "  state.theta = theta;\n",
    "  state.f = g + heuristic(state.x, state.y, goal);\n",
    "\n",
    "  closed[stack][idx(state.x)][idx(state.y)] = 1;\n",
    "  came_from[stack][idx(state.x)][idx(state.y)] = state;\n",
    "  int total_closed = 1;\n",
    "  vector<maze_s> opened = {state};\n",
    "  bool finished = false;\n",
    "  while(!opened.empty()) {\n",
    "  \tsort(opened.begin(), opened.end(), compare_maze_s);\n",
    "    maze_s current = opened[0]; //grab first elment\n",
    "    opened.erase(opened.begin()); //pop first element\n",
    "\n",
    "    int x = current.x;\n",
    "    int y = current.y;\n",
    "\n",
    "    if(idx(x) == goal[0] && idx(y) == goal[1]) {\n",
    "      std::cout << \"found path to goal in \" << total_closed << \" expansions\" \n",
    "                << std::endl;\n",
    "      maze_path path;\n",
    "      path.came_from = came_from;\n",
    "      path.closed = closed;\n",
    "      path.final = current;\n",
    "\n",
    "      return path;\n",
    "    }\n",
    "\n",
    "    vector<maze_s> next_state = expand(current, goal);//扩展多个可运动的方向\n",
    "\n",
    "    for(int i = 0; i < next_state.size(); ++i) {\n",
    "      int g2 = next_state[i].g;\n",
    "      double x2 = next_state[i].x;\n",
    "      double y2 = next_state[i].y;\n",
    "      double theta2 = next_state[i].theta;\n",
    "\n",
    "      if((x2 < 0 || x2 >= grid.size()) || (y2 < 0 || y2 >= grid[0].size())) {\n",
    "        // invalid cell\n",
    "        continue;\n",
    "      }\n",
    "      //stack2范围是多少？\n",
    "      int stack2 = theta_to_stack_number(theta2);\n",
    "\n",
    "      if(closed[stack2][idx(x2)][idx(y2)] == 0 && grid[idx(x2)][idx(y2)] == 0) {\n",
    "        opened.push_back(next_state[i]);\n",
    "        closed[stack2][idx(x2)][idx(y2)] = 1;\n",
    "        came_from[stack2][idx(x2)][idx(y2)] = current;\n",
    "        ++total_closed;\n",
    "      }\n",
    "    }\n",
    "  }\n",
    "\n",
    "  std::cout << \"no valid path.\" << std::endl;\n",
    "  HBF::maze_path path;\n",
    "  path.came_from = came_from;\n",
    "  path.closed = closed;\n",
    "  path.final = state;\n",
    "\n",
    "  return path;\n",
    "}\n",
    "```"
   ]
  },
  {
   "cell_type": "markdown",
   "metadata": {},
   "source": [
    "## 环境分类\n",
    "\n",
    "此算法是非结构化环境中，路径探寻的最佳算法之一。\n",
    "\n",
    "![](./tg106.png)\n",
    "\n",
    "非结构化场景：应用实例有停车场和迷宫等，特点是驾驶规则限制少，速度低，与高速公路以及城市环境殊为不同，这种环境里并不存在明显的参考路径（也就是哪种车辆90%时间都在上面行驶的路径），因为这种环境中，情况随时在变化。\n",
    "\n",
    "结构化场景：相比而言，高速公路和街道是相当结构化的环境，所有的驾驶都在预定义规则的限制下进行，而我们的驾驶也可按照某些规则进行，如车辆行驶方向、车道边界、速度限制等。这些规则对车辆行驶加以限制，当我们生成运动轨迹时，也必须满足所有这些规则。\n",
    "\n",
    "一种在无规则下的最佳算法，如果不能有效利用这些规则，则不适合这种结构化环境。"
   ]
  },
  {
   "cell_type": "markdown",
   "metadata": {},
   "source": [
    "而对于高速公路这种结构化的环境，我们可以有效利用环境规则，比如以车道线为参考。下面学习一种适合高速公路的轨迹生成算法。"
   ]
  },
  {
   "cell_type": "markdown",
   "metadata": {},
   "source": [
    "# 多项式轨迹法(适用高速环境)\n",
    "\n",
    "## Frenet 坐标系, s, d, t\n",
    "\n",
    "用Frenet坐标，可以简化车辆运动模型，比如高速路上的一个超车场景\n",
    "![](./tg107.png)\n",
    "\n"
   ]
  },
  {
   "cell_type": "markdown",
   "metadata": {},
   "source": [
    "该场景实际上还忽略了一个因素，时间t，因为高速上的环境是动态的，随时可能有车周边经过。\n",
    "\n",
    "![](./tg108.png)\n"
   ]
  },
  {
   "cell_type": "markdown",
   "metadata": {},
   "source": [
    "考虑三维场景(因场景是随机的，必须考虑时间因素)\n",
    "\n",
    "![](./tg200.png)\n",
    "\n",
    "将三维场景分解为两个独立的二维模型, s/t,  d/t\n",
    "\n",
    "![](./tg201.png)"
   ]
  },
  {
   "cell_type": "markdown",
   "metadata": {},
   "source": [
    "## Structured Trajectory Generation Overview\n",
    "\n",
    "我们的目标是生成连续的轨迹，轨迹是一个函数，在任一时间点上，该函数可以求得一辆车的一个配置.\n",
    "\n",
    "比如下场景，汽车在高速路上匀速行驶，10S后需要驶出高速，即已知当前状态(位置，速度，加速度)，终点状态，以及时间，拟合出最佳的连续曲线。\n",
    "\n",
    "![](./tg300.png)"
   ]
  },
  {
   "cell_type": "markdown",
   "metadata": {},
   "source": [
    "拟合的曲线，既要考虑连续性，还要考虑平滑性，否则车辆会给人不舒适感甚至出现危险。\n",
    "\n",
    "很明显，引起不舒适感的因素是加速度的变化率（颠簸）。\n",
    "\n",
    "![](./tg301.png)"
   ]
  },
  {
   "cell_type": "markdown",
   "metadata": {},
   "source": [
    "到这里，问题转化为，拟合曲线，并且加速度变化率最小(最舒适)，即**jerk最小化**"
   ]
  },
  {
   "cell_type": "markdown",
   "metadata": {},
   "source": [
    "## jerk minimizing轨迹\n",
    "\n",
    "按上面分析问题简化为，在单个维度，s或者d，找出能够使得Jerk(t)最小的轨迹.\n",
    "\n",
    "Takahashi等人已经证明：任何Jerk最优化问题中的解都可以用一个5次多项式来表示：\n",
    "\n",
    "![](./tg302.png)"
   ]
  },
  {
   "cell_type": "markdown",
   "metadata": {},
   "source": [
    "问题转化为，根据边界条件，求5次多项式，对应有6个可调参数，6个边界条件\n",
    "\n",
    "![](./tg303.png)"
   ]
  },
  {
   "cell_type": "markdown",
   "metadata": {},
   "source": [
    "假设横轴d的初始速度/加速度，最终速度/加速度均为0,运动曲线如下：\n",
    "\n",
    "![](./tg304.png)"
   ]
  },
  {
   "cell_type": "markdown",
   "metadata": {},
   "source": [
    "## 求Jerk系数方法：\n",
    "\n",
    "根据运动学公式，对s(t)1次求导得到速度，2次求导得到加速度，公式如下：\n",
    "\n",
    "$$\n",
    "s(t) = \\alpha_0 + \\alpha_1t  + \\alpha_2t^2 + \\alpha_3t^3 + \\alpha_4t^4 + \\alpha_5^5\n",
    "$$\n",
    "\n",
    "$$\n",
    "\\dot s(t) = \\alpha_1  + 2\\alpha_2t + 3\\alpha_3t^2 + 4\\alpha_4t^3 + 5\\alpha_5^4\n",
    "$$\n",
    "\n",
    "$$\n",
    "\\ddot s(t) = 2\\alpha_2 + 6\\alpha_3t + 12\\alpha_4t^2 + 20\\alpha_5^3\n",
    "$$"
   ]
  },
  {
   "cell_type": "markdown",
   "metadata": {},
   "source": [
    "对初始边界条件，$t_i=0$:\n",
    "$$\n",
    "s_i = s(0) = \\alpha_0\n",
    "$$\n",
    "\n",
    "$$\n",
    "\\dot{s_i} = \\dot{s_i}(0) = \\alpha_1\n",
    "$$\n",
    "\n",
    "$$\n",
    "\\ddot{s_i} = \\ddot{s_i}(0) = 2\\alpha_2\n",
    "$$"
   ]
  },
  {
   "cell_type": "markdown",
   "metadata": {},
   "source": [
    "这样，就只剩下3个未知系数：\n",
    "\n",
    "$$\n",
    "s(t) = s_i + \\dot{s_i}t + \\frac{\\ddot{s_i}}{2}t^2 + \\alpha_3t^3 + \\alpha_4t^4 + \\alpha_5t^5s(t)\n",
    "$$\n",
    "\n",
    "$$\n",
    "\\dot{s}(t) = \\dot{s_i} + \\ddot{s_i}t + 3 \\alpha_3t^2 + 4\\alpha_4t^3 + 5\\alpha_5t^4 \n",
    "$$\n",
    "\n",
    "$$\n",
    "\\ddot{s}(t) = \\ddot{s_i} + 6 \\alpha_3t + 12\\alpha_4t^2 + 20\\alpha_5t^3 \n",
    "$$"
   ]
  },
  {
   "cell_type": "markdown",
   "metadata": {},
   "source": [
    "方程改写为：\n",
    "$$\n",
    "s(t) = \\alpha_3t^3 + \\alpha_4t^4 + \\alpha_5^5 + C_1\n",
    "$$\n",
    "\n",
    "$$\n",
    "\\dot s(t) = 3\\alpha_3t^2 + 4\\alpha_4t^3 + 5\\alpha_5^4 + C_2\n",
    "$$\n",
    "\n",
    "$$\n",
    "\\ddot s(t) =  6\\alpha_3t + 12\\alpha_4t^2 + 20\\alpha_5^3 + C_3\n",
    "$$"
   ]
  },
  {
   "cell_type": "markdown",
   "metadata": {},
   "source": [
    "当t不等于0时，\n",
    "\n",
    "$$\n",
    "s(t_f) = \\alpha_3t^3 + \\alpha_4t^4 + \\alpha_5^5 + C_1\n",
    "$$\n",
    "\n",
    "$$\n",
    "\\dot s(t_f) = 3\\alpha_3t^2 + 4\\alpha_4t^3 + 5\\alpha_5^4 + C_2\n",
    "$$\n",
    "\n",
    "$$\n",
    "\\ddot s(t_f) =  6\\alpha_3t + 12\\alpha_4t^2 + 20\\alpha_5^3 + C_3\n",
    "$$"
   ]
  },
  {
   "cell_type": "markdown",
   "metadata": {},
   "source": [
    "写成矩阵形式：\n",
    "\n",
    "![](./tg309.png)"
   ]
  },
  {
   "cell_type": "markdown",
   "metadata": {},
   "source": [
    "根据最终配置空间值和时间，就可以求出所有系数。"
   ]
  },
  {
   "cell_type": "markdown",
   "metadata": {},
   "source": [
    "实现代码：\n",
    "```cpp\n",
    "vector<double> JMT(vector<double> &start, vector<double> &end, double T) {\n",
    "  /**\n",
    "   * Calculate the Jerk Minimizing Trajectory that connects the initial state\n",
    "   * to the final state in time T.\n",
    "   *\n",
    "   * @param start - the vehicles start location given as a length three array\n",
    "   *   corresponding to initial values of [s, s_dot, s_double_dot]\n",
    "   * @param end - the desired end state for vehicle. Like \"start\" this is a\n",
    "   *   length three array.\n",
    "   * @param T - The duration, in seconds, over which this maneuver should occur.\n",
    "   *\n",
    "   * @output an array of length 6, each value corresponding to a coefficent in \n",
    "   *   the polynomial:\n",
    "   *   s(t) = a_0 + a_1 * t + a_2 * t**2 + a_3 * t**3 + a_4 * t**4 + a_5 * t**5\n",
    "   *\n",
    "   * EXAMPLE\n",
    "   *   > JMT([0, 10, 0], [10, 10, 0], 1)\n",
    "   *     [0.0, 10.0, 0.0, 0.0, 0.0, 0.0]\n",
    "   */\n",
    "\tMatrixXd A = MatrixXd(3,3);\n",
    "\tauto T2 = T*T;\n",
    "  \tauto T3 = T2*T;\n",
    "\tauto T4 = T2*T2;\n",
    "\tauto T5 = T3*T2;\n",
    "\tA << T3,T4,T5,\n",
    "\t\t3*T2,4*T3,5*T4,\n",
    "\t\t6*T, 12*T2,20*T3;\n",
    "  \tMatrixXd B = MatrixXd(3,1);\n",
    "  \tB << end[0] - (start[0] + start[1]*T + 0.5*start[2]*T2),\n",
    "  \tend[1] - (start[1] + start[2]*T),\n",
    "  \tend[2] - start[2];\n",
    "\n",
    "\tMatrixXd \n",
    "Ai = A.inverse();\n",
    "\n",
    "\tMatrixXd C = Ai*B;\n",
    "\n",
    "  \tvector<double> result = {start[0],start[1],0.5*start[2]};\n",
    "\n",
    "\tfor (int i = 0; i < C.size(); i++) {\n",
    "\t\tresult.push_back(C.data()[i]);\n",
    "\t}\n",
    "\n",
    "\treturn result;\n",
    "}\n",
    "```"
   ]
  },
  {
   "cell_type": "markdown",
   "metadata": {},
   "source": [
    "同样，在横轴上也可以求出其6个参数。\n",
    "\n",
    "即，在初始状态，目标状态都已知的情况下，给定一个时间t，就可以可到一个连续，平滑的曲线。\n",
    "\n",
    "![](./tg308.png)"
   ]
  },
  {
   "cell_type": "markdown",
   "metadata": {},
   "source": [
    "## 如何选择最优\n",
    "\n",
    "按上面的方法，对每个不同的目标配置空间，或时间T，都可以生成不同的Jerk轨迹，\n",
    "\n",
    "那么如何选择最优轨迹，需要考虑哪些限制条件呢？\n",
    "\n",
    "![](./tg400.png)"
   ]
  },
  {
   "cell_type": "markdown",
   "metadata": {},
   "source": [
    "设计代价函数：\n",
    "\n",
    "$$\n",
    "C_d = k_jJ_t(d(t)) + k_tT + k_d d1^2\n",
    "$$"
   ]
  },
  {
   "cell_type": "markdown",
   "metadata": {},
   "source": [
    "$k_jJ_t(d(t))$: 惩罚Jerk较大的备选轨迹；\n",
    "\n",
    "$k_tT$: 制动应当迅速，时间段；\n",
    "\n",
    "$k_d d1^2$: 目标状态不应偏离道路中心线太远；\n",
    "\n",
    "其中$k_j, k_t,k_d$是这三个惩罚项的比例系数，也叫权重值，它们的大小决定是代价函数更偏向哪一方便优化。\n",
    "\n",
    "![](./tg401.png)\n",
    "\n",
    "以上损失函数仅适用于高速场景，在极端低速情况下，车辆的制动能力是不完整的，不能再将d设计为t的五次多项式，损失函数也会有所不同，\n",
    "\n",
    "但是这种基于优先采样轨迹的思路，以及通过优化损失函数搜索最优轨迹的方法原理是相通的。"
   ]
  },
  {
   "cell_type": "markdown",
   "metadata": {},
   "source": [
    "### 在纵向上，优化场景大致分三类:\n",
    "\n",
    "跟车\n",
    "\n",
    "汇流和停车\n",
    "\n",
    "车速保持\n",
    "\n",
    "在高速公路等应用场景中，目标配置中并不需要考虑目标位置（即 $s_1$ ），所以初始目标配置仍然是 $(s_0,\\dot{s_0},\\ddot{s_0})$，目标配置变成$\\dot{s_1},\\ddot{s_1}$，损失函数为：\n",
    "\n",
    "$$\n",
    "C_s = k_jJ_t(s(t)) + k_tT + k_{\\dot{s}}(\\dot{s_1} - \\dot{s_c})^2\n",
    "$$\n",
    "\n",
    "其中 $s_c$ 是我们想要保持的纵向速度，第三个惩罚项的引入实际上是为了让目标配置中的纵向速度尽可能接近设定速度，该情景下的目标配置集为：\n",
    "$$\n",
    "[\\dot{s_1}, \\ddot{s_1}, T]_{ij} = [[\\dot{s_c} + \\Delta\\dot{s_i}], 0, T_j]\n",
    "$$\n",
    "\n",
    "即优化过程中的可变参数为 $\\Delta\\dot{s_i}$ 和 $T_j$ ，同样，也可以通过设置 $\\Delta T$ 和 $\\Delta \\dot s$ 来设置轨迹采样的密度，从而获得一个有限的纵向轨迹集合：\n",
    "\n",
    "![](./tg402.png)"
   ]
  },
  {
   "cell_type": "markdown",
   "metadata": {},
   "source": [
    "以上分别讨论了横向和纵向最优轨迹搜索方法，在应用中也可以将两个方差合并为一个：\n",
    "$$\n",
    "C_{total} = k_{lat}C_d + k_{lon}C_s\n",
    "$$\n",
    "这样，就可以通过最小化$C_{total}$得到优化轨迹集合，不仅可以得到“最优”估计参数，还可以得到“次优”，“次次优”轨迹等。\n",
    "\n",
    "![](./tg407.png)"
   ]
  },
  {
   "cell_type": "markdown",
   "metadata": {},
   "source": [
    "## 可行性检测\n",
    "\n",
    "![](./tg405.png)\n",
    "\n",
    "\n"
   ]
  },
  {
   "cell_type": "markdown",
   "metadata": {},
   "source": [
    "我们设计的损失函数，并没有包括障碍物规避的相关惩罚，也没有最大速度，最大加速度和最大曲率等控制约束限制。\n",
    "\n",
    "每考虑这些的主要原因是，使得损失函数设计非常复杂。\n",
    "\n",
    "基于Frenet坐标系的方法，是将这些因素的考量独立出来，在完成优化轨迹以后进行。\n",
    "\n",
    "对所有完成的轨迹做一次可行性检测，过滤不符合约束条件，或碰到障碍物的轨迹。\n",
    "\n",
    "检查内容一般有：\n",
    "\n",
    "s方向上的速度是否超过设定的最大限速\n",
    "\n",
    "s方向的加速度是否超过设定的最大加速度\n",
    "\n",
    "轨迹的曲率是否超过最大曲率\n",
    "\n",
    "轨迹是否会引起碰撞（事故）\n",
    "\n",
    "障碍物规避，又与行为预测有关联，也可在预测部分就规避掉，两者都是一个复杂的课题。"
   ]
  },
  {
   "cell_type": "markdown",
   "metadata": {},
   "source": [
    " Optimal Trajectory Generation For Dynamic Street Scenarios In A Frenet Frame\n",
    "\n",
    "http://video.udacity-data.com.s3.amazonaws.com/topher/2017/July/595fd482_werling-optimal-trajectory-generation-for-dynamic-street-scenarios-in-a-frenet-frame/werling-optimal-trajectory-generation-for-dynamic-street-scenarios-in-a-frenet-frame.pdf"
   ]
  },
  {
   "cell_type": "markdown",
   "metadata": {},
   "source": [
    "# 小结：\n",
    "\n",
    "以上学习了好几种轨迹生成算法，在解决无人驾驶汽车遇到的所有情况时，没有哪种方法可以说是最佳方法；\n",
    "\n",
    "现实中的无人车会使用若干种方法，依情况而定，在停车场，可能使用混合方法，在车流量不大的高速上，可能使用多项式轨迹生成法；\n",
    "\n",
    "同时也许会使用别的方法来应对其他情况，比如分叉路口，车流密集道路等。\n",
    "\n"
   ]
  },
  {
   "cell_type": "markdown",
   "metadata": {},
   "source": [
    "# Additional Resources on Path Planning\n",
    "\n",
    "Indoors\n",
    "Intention-Net: Integrating Planning and Deep Learning for Goal-Directed Autonomous Navigation by S. W. Gao, et. al.\n",
    "https://arxiv.org/abs/1710.05627\n",
    "\n",
    "Abstract: How can a delivery robot navigate reliably to a destination in a new office building, with minimal prior information? To tackle this challenge, this paper introduces a two-level hierarchical approach, which integrates model-free deep learning and model-based path planning. At the low level, a neural-network motion controller, called the intention-net, is trained end-to-end to provide robust local navigation. The intention-net maps images from a single monocular camera and \"intentions\" directly to robot controls. At the high level, a path planner uses a crude map, e.g., a 2-D floor plan, to compute a path from the robot's current location to the goal. The planned path provides intentions to the intention-net. Preliminary experiments suggest that the learned motion controller is robust against perceptual uncertainty and by integrating with a path planner, it generalizes effectively to new environments and goals.\n",
    "\n",
    "\n",
    "City Navigation\n",
    "\n",
    "Learning to Navigate in Cities Without a Map by P. Mirowski, et. al.\n",
    "https://arxiv.org/abs/1804.00168\n",
    "\n",
    "Abstract: Navigating through unstructured environments is a basic capability of intelligent creatures, and thus is of fundamental interest in the study and development of artificial intelligence. Long-range navigation is a complex cognitive task that relies on developing an internal representation of space, grounded by recognizable landmarks and robust visual processing, that can simultaneously support continuous self-localization (\"I am here\") and a representation of the goal (\"I am going there\"). Building upon recent research that applies deep reinforcement learning to maze navigation problems, we present an end-to-end deep reinforcement learning approach that can be applied on a city scale. [...] We present an interactive navigation environment that uses Google StreetView for its photographic content and worldwide coverage, and demonstrate that our learning method allows agents to learn to navigate multiple cities and to traverse to target destinations that may be kilometers away. [...]\n",
    "\n",
    "Intersections\n",
    "\n",
    "A Look at Motion Planning for Autonomous Vehicles at an Intersection by S. Krishnan, et. al.\n",
    "\n",
    "https://arxiv.org/abs/1806.07834\n",
    "\n",
    "Abstract: Autonomous Vehicles are currently being tested in a variety of scenarios. As we move towards Autonomous Vehicles, how should intersections look? To answer that question, we break down an intersection management into the different conundrums and scenarios involved in the trajectory planning and current approaches to solve them. Then, a brief analysis of current works in autonomous intersection is conducted. With a critical eye, we try to delve into the discrepancies of existing solutions while presenting some critical and important factors that have been addressed. Furthermore, open issues that have to be addressed are also emphasized. We also try to answer the question of how to benchmark intersection management algorithms by providing some factors that impact autonomous navigation at intersection.\n",
    "\n",
    "Planning in Traffic with Deep Reinforcement Learning\n",
    "\n",
    "DeepTraffic: Crowdsourced Hyperparameter Tuning of Deep Reinforcement Learning Systems for Multi-Agent Dense Traffic Navigation by L. Fridman, J. Terwilliger and B. Jenik\n",
    "\n",
    "https://arxiv.org/abs/1801.02805\n",
    "\n",
    "Abstract: We present a traffic simulation named DeepTraffic where the planning systems for a subset of the vehicles are handled by a neural network as part of a model-free, off-policy reinforcement learning process. The primary goal of DeepTraffic is to make the hands-on study of deep reinforcement learning accessible to thousands of students, educators, and researchers in order to inspire and fuel the exploration and evaluation of deep Q-learning network variants and hyperparameter configurations through large-scale, open competition. This paper investigates the crowd-sourced hyperparameter tuning of the policy network that resulted from the first iteration of the DeepTraffic competition where thousands of participants actively searched through the hyperparameter space."
   ]
  },
  {
   "cell_type": "code",
   "execution_count": null,
   "metadata": {},
   "outputs": [],
   "source": []
  },
  {
   "cell_type": "code",
   "execution_count": null,
   "metadata": {},
   "outputs": [],
   "source": []
  }
 ],
 "metadata": {
  "kernelspec": {
   "display_name": "Python [conda env:tf_gpu]",
   "language": "python",
   "name": "conda-env-tf_gpu-py"
  },
  "language_info": {
   "codemirror_mode": {
    "name": "ipython",
    "version": 3
   },
   "file_extension": ".py",
   "mimetype": "text/x-python",
   "name": "python",
   "nbconvert_exporter": "python",
   "pygments_lexer": "ipython3",
   "version": "3.7.3"
  }
 },
 "nbformat": 4,
 "nbformat_minor": 2
}
