{
 "cells": [
  {
   "cell_type": "code",
   "execution_count": 5,
   "metadata": {},
   "outputs": [],
   "source": [
    "# ----------\n",
    "# User Instructions:\n",
    "# \n",
    "# Write a function optimum_policy that returns\n",
    "# a grid which shows the optimum policy for robot\n",
    "# motion. This means there should be an optimum\n",
    "# direction associated with each navigable cell from\n",
    "# which the goal can be reached.\n",
    "# \n",
    "# Unnavigable cells as well as cells from which \n",
    "# the goal cannot be reached should have a string \n",
    "# containing a single space (' '), as shown in the \n",
    "# previous video. The goal cell should have '*'.\n",
    "# ----------\n",
    "\n",
    "grid = [[0, 1, 0, 0, 0, 0],\n",
    "        [0, 1, 0, 0, 0, 0],\n",
    "        [0, 1, 0, 0, 0, 0],\n",
    "        [0, 1, 0, 0, 0, 0],\n",
    "        [0, 0, 0, 0, 1, 0]]\n",
    "init = [0, 0]\n",
    "goal = [len(grid)-1, len(grid[0])-1]\n",
    "cost = 1 # the cost associated with moving from a cell to an adjacent one\n",
    "\n",
    "delta = [[-1, 0 ], # go up\n",
    "         [ 0, -1], # go left\n",
    "         [ 1, 0 ], # go down\n",
    "         [ 0, 1 ]] # go right\n",
    "\n",
    "delta_name = ['^', '<', 'v', '>']\n",
    "\n",
    "def optimum_policy(grid,goal,cost):\n",
    "    # ----------------------------------------\n",
    "    # modify code below\n",
    "    # ----------------------------------------\n",
    "    value = [[99 for row in range(len(grid[0]))] for col in range(len(grid))]\n",
    "    policy = [[' ' for row in range(len(grid[0]))] for col in range(len(grid))]\n",
    "    change = True\n",
    "\n",
    "    while change:\n",
    "        change = False\n",
    "\n",
    "        for x in range(len(grid)):\n",
    "            for y in range(len(grid[0])):\n",
    "                if goal[0] == x and goal[1] == y:\n",
    "                    if value[x][y] > 0:\n",
    "                        value[x][y] = 0\n",
    "                        policy[x][y] = '*'\n",
    "                        print(\"policy end,***\")\n",
    "                        change = True\n",
    "\n",
    "                elif grid[x][y] == 0:\n",
    "                    for a in range(len(delta)):\n",
    "                        x2 = x + delta[a][0]\n",
    "                        y2 = y + delta[a][1]\n",
    "\n",
    "                        if x2 >= 0 and x2 < len(grid) and y2 >= 0 and y2 < len(grid[0]) and grid[x2][y2] == 0:\n",
    "                            v2 = value[x2][y2] + cost\n",
    "\n",
    "                            if v2 < value[x][y]:\n",
    "                                change = True\n",
    "                                value[x][y] = v2\n",
    "                                policy[x][y] = delta_name[a]\n",
    "    \n",
    "    print(\"grid:\")\n",
    "    for i in range(len(grid)):\n",
    "        print(grid[i])\n",
    "    print(\"value:\")\n",
    "    for i in range(len(value)):\n",
    "        print(value[i])\n",
    "    print(\"policy\")\n",
    "    for i in range(len(policy)):\n",
    "        print(policy[i])\n",
    "    return policy\n"
   ]
  },
  {
   "cell_type": "code",
   "execution_count": 6,
   "metadata": {},
   "outputs": [
    {
     "name": "stdout",
     "output_type": "stream",
     "text": [
      "policy end,***\n",
      "grid:\n",
      "[0, 1, 0, 0, 0, 0]\n",
      "[0, 1, 0, 0, 0, 0]\n",
      "[0, 1, 0, 0, 0, 0]\n",
      "[0, 1, 0, 0, 0, 0]\n",
      "[0, 0, 0, 0, 1, 0]\n",
      "value:\n",
      "[11, 99, 7, 6, 5, 4]\n",
      "[10, 99, 6, 5, 4, 3]\n",
      "[9, 99, 5, 4, 3, 2]\n",
      "[8, 99, 4, 3, 2, 1]\n",
      "[7, 6, 5, 4, 99, 0]\n",
      "policy\n",
      "['v', ' ', 'v', 'v', 'v', 'v']\n",
      "['v', ' ', 'v', 'v', 'v', 'v']\n",
      "['v', ' ', 'v', 'v', 'v', 'v']\n",
      "['v', ' ', '>', '>', '>', 'v']\n",
      "['>', '>', '^', '^', ' ', '*']\n"
     ]
    },
    {
     "data": {
      "text/plain": [
       "[['v', ' ', 'v', 'v', 'v', 'v'],\n",
       " ['v', ' ', 'v', 'v', 'v', 'v'],\n",
       " ['v', ' ', 'v', 'v', 'v', 'v'],\n",
       " ['v', ' ', '>', '>', '>', 'v'],\n",
       " ['>', '>', '^', '^', ' ', '*']]"
      ]
     },
     "execution_count": 6,
     "metadata": {},
     "output_type": "execute_result"
    }
   ],
   "source": [
    "optimum_policy(grid, goal, cost)"
   ]
  },
  {
   "cell_type": "code",
   "execution_count": null,
   "metadata": {},
   "outputs": [],
   "source": []
  }
 ],
 "metadata": {
  "kernelspec": {
   "display_name": "Python 3",
   "language": "python",
   "name": "python3"
  },
  "language_info": {
   "codemirror_mode": {
    "name": "ipython",
    "version": 3
   },
   "file_extension": ".py",
   "mimetype": "text/x-python",
   "name": "python",
   "nbconvert_exporter": "python",
   "pygments_lexer": "ipython3",
   "version": "3.7.3"
  }
 },
 "nbformat": 4,
 "nbformat_minor": 2
}
