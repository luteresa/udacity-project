{
 "cells": [
  {
   "cell_type": "code",
   "execution_count": 1,
   "metadata": {},
   "outputs": [
    {
     "name": "stdout",
     "output_type": "stream",
     "text": [
      "goal: [4, 5]\n",
      "5 6\n"
     ]
    }
   ],
   "source": [
    "# ----------\n",
    "# User Instructions:\n",
    "# \n",
    "# Define a function, search() that returns a list\n",
    "# in the form of [optimal path length, row, col]. For\n",
    "# the grid shown below, your function should output\n",
    "# [11, 4, 5].\n",
    "#\n",
    "# If there is no valid path from the start point\n",
    "# to the goal, your function should return the string\n",
    "# 'fail'\n",
    "# ----------\n",
    "\n",
    "# Grid format:\n",
    "#   0 = Navigable space\n",
    "#   1 = Occupied space\n",
    "\n",
    "\n",
    "grid = [[0, 0, 1, 0, 0, 0],\n",
    "        [0, 0, 1, 0, 0, 0],\n",
    "        [0, 0, 0, 0, 1, 0],\n",
    "        [0, 0, 1, 1, 1, 0],\n",
    "        [0, 0, 0, 0, 1, 0]]\n",
    "init = [0, 0]\n",
    "goal = [len(grid)-1, len(grid[0])-1]\n",
    "cost = 1\n",
    "\n",
    "delta = [[-1, 0], # go up\n",
    "         [ 0,-1], # go left\n",
    "         [ 1, 0], # go down\n",
    "         [ 0, 1]] # go right\n",
    "\n",
    "delta_name = ['^', '<', 'v', '>']\n",
    "print(\"goal:\",goal)\n",
    "print(len(grid),len(grid[0]))\n",
    "\n",
    "def search(grid,init,goal,cost):\n",
    "    # ----------------------------------------\n",
    "    # insert code here\n",
    "    # ----------------------------------------\n",
    "    #open list elements are of the type:[g,x,y]\n",
    "    closed = [[0 for row in range(len(grid[0]))] for col in range(len(grid))]\n",
    "    closed[init[0]][init[1]] = 1\n",
    "    \n",
    "    expand_grid = [[-1 for row in range(len(grid[0]))] for col in range(len(grid))]\n",
    "    \n",
    "    print(closed)\n",
    "    x = init[0]\n",
    "    y = init[1]\n",
    "    g = 0\n",
    "    open = [[g,x,y]]\n",
    "    \n",
    "    found = False #flag that is set when search complete\n",
    "    resign = False #flag set if we can't find expand\n",
    "    count = 0\n",
    "    \n",
    "    print('initial open list:')\n",
    "    for i in range(len(open)):\n",
    "        print(\" \",open[i])\n",
    "    print(\"--------\")\n",
    "    \n",
    "    while found is False and resign is False:\n",
    "        #check if we still have elements on the open list\n",
    "        if len(open) == 0:\n",
    "            resign = True\n",
    "            print(\"fail\")\n",
    "            path = \"fail\"\n",
    "            print(\"###### Search terminated without success\")\n",
    "        else:\n",
    "            open.sort()\n",
    "            open.reverse()\n",
    "            next = open.pop()\n",
    "            #print(\"take list item:\",next)\n",
    "            g = next[0]\n",
    "            x = next[1]\n",
    "            y = next[2]\n",
    "            expand_grid[x][y] = count\n",
    "            count += 1\n",
    "            \n",
    "            #check if we are done\n",
    "            if x == goal[0] and y == goal[1]:\n",
    "                found = True\n",
    "                #print(next)\n",
    "                path = next\n",
    "                print(\"Search successful\")\n",
    "            else:\n",
    "                #expand winning element and add to new open list\n",
    "                for i in range(len(delta)):\n",
    "                    x2 = x + delta[i][0]\n",
    "                    y2 = y + delta[i][1]\n",
    "                    if x2 >= 0 and x2 < len(grid) and y2 >= 0 and y2 < len(grid[0]):\n",
    "                        if closed[x2][y2] == 0 and grid[x2][y2] == 0:\n",
    "                            g2 = g + cost\n",
    "                            open.append([g2,x2,y2])\n",
    "                            #print(\"append list item:\",g2,x2,y2)\n",
    "                            closed[x2][y2] = 1\n",
    "                #print(\"New list:\",open)\n",
    "                #print(\"==========\")\n",
    "    for i in range(len(expand_grid)):\n",
    "        print(expand_grid[i])\n",
    "\n",
    "    return expand_grid"
   ]
  },
  {
   "cell_type": "code",
   "execution_count": 3,
   "metadata": {},
   "outputs": [
    {
     "name": "stdout",
     "output_type": "stream",
     "text": [
      "[[1, 0, 0, 0, 0, 0], [0, 0, 0, 0, 0, 0], [0, 0, 0, 0, 0, 0], [0, 0, 0, 0, 0, 0], [0, 0, 0, 0, 0, 0]]\n",
      "initial open list:\n",
      "  [0, 0, 0]\n",
      "--------\n",
      "Search successful\n",
      "[0, 1, -1, 14, 17, 19]\n",
      "[2, 3, -1, 12, 15, 18]\n",
      "[4, 5, 7, 10, -1, 20]\n",
      "[6, 8, -1, -1, -1, 21]\n",
      "[9, 11, 13, 16, -1, 22]\n"
     ]
    }
   ],
   "source": [
    "result = search(grid,init,goal,cost)\n"
   ]
  },
  {
   "cell_type": "code",
   "execution_count": null,
   "metadata": {},
   "outputs": [],
   "source": []
  }
 ],
 "metadata": {
  "kernelspec": {
   "display_name": "Python 3",
   "language": "python",
   "name": "python3"
  },
  "language_info": {
   "codemirror_mode": {
    "name": "ipython",
    "version": 3
   },
   "file_extension": ".py",
   "mimetype": "text/x-python",
   "name": "python",
   "nbconvert_exporter": "python",
   "pygments_lexer": "ipython3",
   "version": "3.7.3"
  }
 },
 "nbformat": 4,
 "nbformat_minor": 2
}
