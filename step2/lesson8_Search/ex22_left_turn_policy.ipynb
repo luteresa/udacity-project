{
 "cells": [
  {
   "cell_type": "code",
   "execution_count": 22,
   "metadata": {},
   "outputs": [],
   "source": [
    "# ----------\n",
    "# User Instructions:\n",
    "# \n",
    "# Implement the function optimum_policy2D below.\n",
    "#\n",
    "# You are given a car in grid with initial state\n",
    "# init. Your task is to compute and return the car's \n",
    "# optimal path to the position specified in goal; \n",
    "# the costs for each motion are as defined in cost.\n",
    "#\n",
    "# There are four motion directions: up, left, down, and right.\n",
    "# Increasing the index in this array corresponds to making a\n",
    "# a left turn, and decreasing the index corresponds to making a \n",
    "# right turn.\n",
    "\n",
    "forward = [[-1,  0], # go up\n",
    "           [ 0, -1], # go left\n",
    "           [ 1,  0], # go down\n",
    "           [ 0,  1]] # go right\n",
    "forward_name = ['up', 'left', 'down', 'right']\n",
    "\n",
    "# action has 3 values: right turn, no turn, left turn\n",
    "action = [-1, 0, 1]\n",
    "action_name = ['R', '#', 'L']\n",
    "\n",
    "# EXAMPLE INPUTS:\n",
    "# grid format:\n",
    "#     0 = navigable space\n",
    "#     1 = unnavigable space \n",
    "grid = [[1, 1, 1, 0, 0, 0],\n",
    "        [1, 1, 1, 0, 1, 0],\n",
    "        [0, 0, 0, 0, 0, 0],\n",
    "        [1, 1, 1, 0, 1, 1],\n",
    "        [1, 1, 1, 0, 1, 1]]\n",
    "\n",
    "init = [4, 3, 0] # given in the form [row,col,direction]\n",
    "                 # direction = 0: up\n",
    "                 #             1: left\n",
    "                 #             2: down\n",
    "                 #             3: right\n",
    "                \n",
    "goal = [2, 0] # given in the form [row,col]\n",
    "\n",
    "cost = [2, 1, 20] # cost has 3 values, corresponding to making \n",
    "                  # a right turn, no turn, and a left turn\n",
    "\n",
    "# EXAMPLE OUTPUT:\n",
    "# calling optimum_policy2D with the given parameters should return \n",
    "# [[' ', ' ', ' ', 'R', '#', 'R'],\n",
    "#  [' ', ' ', ' ', '#', ' ', '#'],\n",
    "#  ['*', '#', '#', '#', '#', 'R'],\n",
    "#  [' ', ' ', ' ', '#', ' ', ' '],\n",
    "#  [' ', ' ', ' ', '#', ' ', ' ']]\n",
    "# ----------\n",
    "\n",
    "# ----------------------------------------\n",
    "# modify code below\n",
    "# ----------------------------------------\n",
    "\n",
    "def optimum_policy2D(grid,init,goal,cost):\n",
    "    value = [[[999 for row in range(len(grid[0]))] for col in range(len(grid))],\n",
    "             [[999 for row in range(len(grid[0]))] for col in range(len(grid))],\n",
    "             [[999 for row in range(len(grid[0]))] for col in range(len(grid))],\n",
    "             [[999 for row in range(len(grid[0]))] for col in range(len(grid))]]\n",
    "    policy = [[[' ' for row in range(len(grid[0]))] for col in range(len(grid))],\n",
    "             [[' ' for row in range(len(grid[0]))] for col in range(len(grid))],\n",
    "             [[' ' for row in range(len(grid[0]))] for col in range(len(grid))],\n",
    "             [[' ' for row in range(len(grid[0]))] for col in range(len(grid))]]\n",
    "    policy2D = [[' ' for row in range(len(grid[0]))] for col in range(len(grid))]\n",
    "    \n",
    "    change = True\n",
    "    while change:\n",
    "        change = False\n",
    "\n",
    "        for x in range(len(grid)):\n",
    "            for y in range(len(grid[0])):\n",
    "                for orientation in range(4):\n",
    "                    if goal[0] == x and goal[1] == y:\n",
    "                        if value[orientation][x][y] > 0:\n",
    "                            value[orientation][x][y] = 0\n",
    "                            policy[orientation][x][y] = '*'\n",
    "                            print(\"policy end,***\")\n",
    "                            change = True\n",
    "\n",
    "                    elif grid[x][y] == 0:\n",
    "                        for i in range(3):\n",
    "                            o2 = (orientation + action[i])%4 # -1%4=3\n",
    "                            x2 =x + forward[o2][0]\n",
    "                            y2 = y + forward[o2][1]\n",
    "\n",
    "                            if x2 >= 0 and x2 < len(grid) and y2 >= 0 and y2 < len(grid[0]) and grid[x2][y2] == 0:\n",
    "                                v2 = value[o2][x2][y2] + cost[i]\n",
    "\n",
    "                                if v2 < value[orientation][x][y]:\n",
    "                                    change = True\n",
    "                                    value[orientation][x][y] = v2\n",
    "                                    policy[orientation][x][y] = action_name[i]\n",
    "    print(policy)\n",
    "    x = init[0]\n",
    "    y = init[1]\n",
    "    orientation = init[2]\n",
    "    \n",
    "    policy2D[x][y] = policy[orientation][x][y]\n",
    "    while policy[orientation][x][y] != '*':\n",
    "        if policy[orientation][x][y] == '#':\n",
    "            o2 = orientation\n",
    "        elif policy[orientation][x][y] == 'R':\n",
    "            o2 = (orientation -1)%4\n",
    "        elif policy[orientation][x][y] == 'L':\n",
    "            o2 = (orientation +1)%4\n",
    "        x = x + forward[o2][0]\n",
    "        y = y + forward[o2][1]\n",
    "        orientation = o2\n",
    "        policy2D[x][y] = policy[orientation][x][y]\n",
    "    \n",
    "    return policy2D"
   ]
  },
  {
   "cell_type": "code",
   "execution_count": 23,
   "metadata": {},
   "outputs": [
    {
     "name": "stdout",
     "output_type": "stream",
     "text": [
      "policy end,***\n",
      "policy end,***\n",
      "policy end,***\n",
      "policy end,***\n",
      "[[[' ', ' ', ' ', 'R', 'R', 'L'], [' ', ' ', ' ', '#', ' ', '#'], ['*', 'L', 'L', '#', 'L', 'L'], [' ', ' ', ' ', '#', ' ', ' '], [' ', ' ', ' ', '#', ' ', ' ']], [[' ', ' ', ' ', 'L', '#', '#'], [' ', ' ', ' ', 'R', ' ', 'L'], ['*', '#', '#', '#', '#', '#'], [' ', ' ', ' ', 'R', ' ', ' '], [' ', ' ', ' ', 'R', ' ', ' ']], [[' ', ' ', ' ', '#', 'R', '#'], [' ', ' ', ' ', '#', ' ', '#'], ['*', 'R', 'R', 'R', 'R', 'R'], [' ', ' ', ' ', ' ', ' ', ' '], [' ', ' ', ' ', ' ', ' ', ' ']], [[' ', ' ', ' ', 'R', '#', 'R'], [' ', ' ', ' ', 'R', ' ', 'R'], ['*', '#', '#', 'L', '#', 'L'], [' ', ' ', ' ', 'L', ' ', ' '], [' ', ' ', ' ', 'L', ' ', ' ']]]\n"
     ]
    },
    {
     "data": {
      "text/plain": [
       "[[' ', ' ', ' ', 'R', '#', 'R'],\n",
       " [' ', ' ', ' ', '#', ' ', '#'],\n",
       " ['*', '#', '#', '#', '#', 'R'],\n",
       " [' ', ' ', ' ', '#', ' ', ' '],\n",
       " [' ', ' ', ' ', '#', ' ', ' ']]"
      ]
     },
     "execution_count": 23,
     "metadata": {},
     "output_type": "execute_result"
    }
   ],
   "source": [
    "optimum_policy2D(grid, init, goal, cost)"
   ]
  },
  {
   "cell_type": "code",
   "execution_count": 6,
   "metadata": {},
   "outputs": [
    {
     "data": {
      "text/plain": [
       "3"
      ]
     },
     "execution_count": 6,
     "metadata": {},
     "output_type": "execute_result"
    }
   ],
   "source": [
    "-1%4"
   ]
  },
  {
   "cell_type": "code",
   "execution_count": null,
   "metadata": {},
   "outputs": [],
   "source": []
  }
 ],
 "metadata": {
  "kernelspec": {
   "display_name": "Python 3",
   "language": "python",
   "name": "python3"
  },
  "language_info": {
   "codemirror_mode": {
    "name": "ipython",
    "version": 3
   },
   "file_extension": ".py",
   "mimetype": "text/x-python",
   "name": "python",
   "nbconvert_exporter": "python",
   "pygments_lexer": "ipython3",
   "version": "3.7.3"
  }
 },
 "nbformat": 4,
 "nbformat_minor": 2
}
