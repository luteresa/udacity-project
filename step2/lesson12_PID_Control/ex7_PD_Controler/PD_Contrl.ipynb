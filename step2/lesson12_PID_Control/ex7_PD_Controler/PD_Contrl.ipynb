{
 "cells": [
  {
   "cell_type": "code",
   "execution_count": 13,
   "metadata": {},
   "outputs": [],
   "source": [
    "# -----------\n",
    "# User Instructions\n",
    "#\n",
    "# Implement a PD controller by running 100 iterations\n",
    "# of robot motion. The steering angle should be set\n",
    "# by the parameter tau_p and tau_d so that:\n",
    "#\n",
    "# steering = -tau_p * CTE - tau_d * diff_CTE\n",
    "# where differential crosstrack error (diff_CTE)\n",
    "# is given by CTE(t) - CTE(t-1)\n",
    "#\n",
    "#\n",
    "# Only modify code at the bottom! Look for the TODO\n",
    "# ------------\n",
    " \n",
    "import random\n",
    "import numpy as np\n",
    "import matplotlib.pyplot as plt\n",
    "\n",
    "# ------------------------------------------------\n",
    "# \n",
    "# this is the Robot class\n",
    "#\n",
    "\n",
    "class Robot(object):\n",
    "    def __init__(self, length=20.0):\n",
    "        \"\"\"\n",
    "        Creates robot and initializes location/orientation to 0, 0, 0.\n",
    "        \"\"\"\n",
    "        self.x = 0.0\n",
    "        self.y = 0.0\n",
    "        self.orientation = 0.0\n",
    "        self.length = length\n",
    "        self.steering_noise = 0.0\n",
    "        self.distance_noise = 0.0\n",
    "        self.steering_drift = 0.0\n",
    "\n",
    "    def set(self, x, y, orientation):\n",
    "        \"\"\"\n",
    "        Sets a robot coordinate.\n",
    "        \"\"\"\n",
    "        self.x = x\n",
    "        self.y = y\n",
    "        self.orientation = orientation % (2.0 * np.pi)\n",
    "\n",
    "    def set_noise(self, steering_noise, distance_noise):\n",
    "        \"\"\"\n",
    "        Sets the noise parameters.\n",
    "        \"\"\"\n",
    "        # makes it possible to change the noise parameters\n",
    "        # this is often useful in particle filters\n",
    "        self.steering_noise = steering_noise\n",
    "        self.distance_noise = distance_noise\n",
    "\n",
    "    def set_steering_drift(self, drift):\n",
    "        \"\"\"\n",
    "        Sets the systematical steering drift parameter\n",
    "        \"\"\"\n",
    "        self.steering_drift = drift\n",
    "\n",
    "    def move(self, steering, distance, tolerance=0.001, max_steering_angle=np.pi / 4.0):\n",
    "        \"\"\"\n",
    "        steering = front wheel steering angle, limited by max_steering_angle\n",
    "        distance = total distance driven, most be non-negative\n",
    "        \"\"\"\n",
    "        if steering > max_steering_angle:\n",
    "            steering = max_steering_angle\n",
    "        if steering < -max_steering_angle:\n",
    "            steering = -max_steering_angle\n",
    "        if distance < 0.0:\n",
    "            distance = 0.0\n",
    "\n",
    "        # apply noise\n",
    "        steering2 = random.gauss(steering, self.steering_noise)\n",
    "        distance2 = random.gauss(distance, self.distance_noise)\n",
    "\n",
    "        # apply steering drift\n",
    "        steering2 += self.steering_drift\n",
    "\n",
    "        # Execute motion\n",
    "        turn = np.tan(steering2) * distance2 / self.length\n",
    "\n",
    "        if abs(turn) < tolerance:\n",
    "            # approximate by straight line motion\n",
    "            self.x += distance2 * np.cos(self.orientation)\n",
    "            self.y += distance2 * np.sin(self.orientation)\n",
    "            self.orientation = (self.orientation + turn) % (2.0 * np.pi)\n",
    "        else:\n",
    "            # approximate bicycle model for motion\n",
    "            radius = distance2 / turn\n",
    "            cx = self.x - (np.sin(self.orientation) * radius)\n",
    "            cy = self.y + (np.cos(self.orientation) * radius)\n",
    "            self.orientation = (self.orientation + turn) % (2.0 * np.pi)\n",
    "            self.x = cx + (np.sin(self.orientation) * radius)\n",
    "            self.y = cy - (np.cos(self.orientation) * radius)\n",
    "\n",
    "    def __repr__(self):\n",
    "        return '[x=%.5f y=%.5f orient=%.5f]' % (self.x, self.y, self.orientation)\n",
    "\n",
    " \n"
   ]
  },
  {
   "cell_type": "code",
   "execution_count": 14,
   "metadata": {},
   "outputs": [],
   "source": [
    "############## ADD / MODIFY CODE BELOW ####################\n",
    "# ------------------------------------------------------------------------\n",
    "#\n",
    "# run - does a single control run\n",
    "\n",
    "# previous P controller\n",
    "def run_p(robot, tau, n=100, speed=1.0):\n",
    "    x_trajectory = []\n",
    "    y_trajectory = []\n",
    "    for i in range(n):\n",
    "        cte = robot.y\n",
    "        steer = -tau * cte\n",
    "        robot.move(steer, speed)\n",
    "        x_trajectory.append(robot.x)\n",
    "        y_trajectory.append(robot.y)\n",
    "    return x_trajectory, y_trajectory\n",
    "   "
   ]
  },
  {
   "cell_type": "code",
   "execution_count": 15,
   "metadata": {},
   "outputs": [],
   "source": [
    "def run(robot, tau_p, tau_d, n=100, speed=1.0):\n",
    "    x_trajectory = []\n",
    "    y_trajectory = []\n",
    "    # TODO: your code here\n",
    "    prev_cte = robot.y\n",
    "    for i in range(n):\n",
    "        cte = robot.y\n",
    "        diff_cte = cte - prev_cte\n",
    "        prev_cte = cte\n",
    "        steer = -tau_p * cte - tau_d * diff_cte\n",
    "        robot.move(steer, speed)\n",
    "        x_trajectory.append(robot.x)\n",
    "        y_trajectory.append(robot.y)\n",
    "        print(robot)\n",
    "\n",
    "    return x_trajectory, y_trajectory"
   ]
  },
  {
   "cell_type": "code",
   "execution_count": 17,
   "metadata": {},
   "outputs": [
    {
     "data": {
      "image/png": "[encoded data removed]",
      "text/plain": [
       "<Figure size 576x576 with 2 Axes>"
      ]
     },
     "metadata": {
      "needs_background": "light"
     },
     "output_type": "display_data"
    }
   ],
   "source": [
    "\n",
    "\n",
    "\n",
    "robot = Robot()\n",
    "robot.set(0, 1, 0) \n",
    "x_trajectory, y_trajectory = run_p(robot, 0.1)\n",
    "n = len(x_trajectory)\n",
    "\n",
    "fig, (ax1, ax2) = plt.subplots(2, 1, figsize=(8, 8))\n",
    "ax1.plot(x_trajectory, y_trajectory, 'b', label='PD controller')\n",
    "ax1.plot(x_trajectory, np.zeros(n), 'r', label='reference')\n",
    "plt.savefig(\"P_Contrl.png\")"
   ]
  },
  {
   "cell_type": "code",
   "execution_count": 18,
   "metadata": {},
   "outputs": [
    {
     "name": "stdout",
     "output_type": "stream",
     "text": [
      "[x=0.99998 y=0.99493 orient=6.27305]\n",
      "[x=1.99987 y=0.98015 orient=6.26376]\n",
      "[x=2.99960 y=0.95690 orient=6.25611]\n",
      "[x=3.99914 y=0.92678 orient=6.25000]\n",
      "[x=4.99851 y=0.89122 orient=6.24524]\n",
      "[x=5.99772 y=0.85149 orient=6.24165]\n",
      "[x=6.99680 y=0.80869 orient=6.23910]\n",
      "[x=7.99579 y=0.76378 orient=6.23743]\n",
      "[x=8.99475 y=0.71804 orient=6.23653]\n",
      "[x=9.99366 y=0.67140 orient=6.23621]\n",
      "[x=10.99255 y=0.62444 orient=6.23649]\n",
      "[x=11.99146 y=0.57776 orient=6.23729]\n",
      "[x=12.99044 y=0.53249 orient=6.23851]\n",
      "[x=13.98947 y=0.48856 orient=6.23998]\n",
      "[x=14.98858 y=0.44622 orient=6.24168]\n",
      "[x=15.98775 y=0.40568 orient=6.24357]\n",
      "[x=16.98701 y=0.36709 orient=6.24560]\n",
      "[x=17.98634 y=0.33057 orient=6.24772]\n",
      "[x=18.98575 y=0.29619 orient=6.24989]\n",
      "[x=19.98523 y=0.26400 orient=6.25209]\n",
      "[x=20.98478 y=0.23401 orient=6.25428]\n",
      "[x=21.98440 y=0.20618 orient=6.25644]\n",
      "[x=22.98407 y=0.18049 orient=6.25855]\n",
      "[x=23.98379 y=0.15689 orient=6.26060]\n",
      "[x=24.98355 y=0.13529 orient=6.26257]\n",
      "[x=25.98336 y=0.11562 orient=6.26446]\n",
      "[x=26.98320 y=0.09780 orient=6.26626]\n",
      "[x=27.98307 y=0.08172 orient=6.26795]\n",
      "[x=28.98297 y=0.06728 orient=6.26955]\n",
      "[x=29.98288 y=0.05439 orient=6.27104]\n",
      "[x=30.98282 y=0.04294 orient=6.27243]\n",
      "[x=31.98277 y=0.03283 orient=6.27372]\n",
      "[x=32.98273 y=0.02396 orient=6.27491]\n",
      "[x=33.98270 y=0.01623 orient=6.27600]\n",
      "[x=34.98267 y=0.00904 orient=6.27700]\n",
      "[x=35.98265 y=0.00285 orient=6.27798]\n",
      "[x=36.98264 y=-0.00235 orient=6.27888]\n",
      "[x=37.98263 y=-0.00665 orient=6.27969]\n",
      "[x=38.98262 y=-0.01015 orient=6.28040]\n",
      "[x=39.98262 y=-0.01293 orient=6.28103]\n",
      "[x=40.98262 y=-0.01509 orient=6.28157]\n",
      "[x=41.98262 y=-0.01671 orient=6.28205]\n",
      "[x=42.98262 y=-0.01784 orient=6.28246]\n",
      "[x=43.98261 y=-0.01857 orient=6.28281]\n",
      "[x=44.98261 y=-0.01895 orient=6.28310]\n",
      "[x=45.98261 y=-0.01904 orient=0.00016]\n",
      "[x=46.98261 y=-0.01887 orient=0.00036]\n",
      "[x=47.98261 y=-0.01851 orient=0.00053]\n",
      "[x=48.98261 y=-0.01798 orient=0.00066]\n",
      "[x=49.98261 y=-0.01732 orient=0.00076]\n",
      "[x=50.98261 y=-0.01656 orient=0.00083]\n",
      "[x=51.98261 y=-0.01573 orient=0.00089]\n",
      "[x=52.98261 y=-0.01484 orient=0.00092]\n",
      "[x=53.98261 y=-0.01392 orient=0.00093]\n",
      "[x=54.98261 y=-0.01299 orient=0.00094]\n",
      "[x=55.98261 y=-0.01205 orient=0.00092]\n",
      "[x=56.98261 y=-0.01113 orient=0.00091]\n",
      "[x=57.98261 y=-0.01022 orient=0.00088]\n",
      "[x=58.98261 y=-0.00934 orient=0.00084]\n",
      "[x=59.98261 y=-0.00850 orient=0.00081]\n",
      "[x=60.98261 y=-0.00769 orient=0.00076]\n",
      "[x=61.98261 y=-0.00693 orient=0.00072]\n",
      "[x=62.98261 y=-0.00621 orient=0.00068]\n",
      "[x=63.98261 y=-0.00554 orient=0.00063]\n",
      "[x=64.98261 y=-0.00491 orient=0.00058]\n",
      "[x=65.98261 y=-0.00432 orient=0.00054]\n",
      "[x=66.98261 y=-0.00378 orient=0.00049]\n",
      "[x=67.98261 y=-0.00329 orient=0.00045]\n",
      "[x=68.98261 y=-0.00284 orient=0.00041]\n",
      "[x=69.98261 y=-0.00243 orient=0.00037]\n",
      "[x=70.98261 y=-0.00206 orient=0.00033]\n",
      "[x=71.98261 y=-0.00173 orient=0.00030]\n",
      "[x=72.98261 y=-0.00143 orient=0.00027]\n",
      "[x=73.98261 y=-0.00116 orient=0.00024]\n",
      "[x=74.98261 y=-0.00093 orient=0.00021]\n",
      "[x=75.98261 y=-0.00072 orient=0.00018]\n",
      "[x=76.98261 y=-0.00054 orient=0.00016]\n",
      "[x=77.98261 y=-0.00038 orient=0.00014]\n",
      "[x=78.98261 y=-0.00025 orient=0.00012]\n",
      "[x=79.98261 y=-0.00013 orient=0.00010]\n",
      "[x=80.98261 y=-0.00003 orient=0.00008]\n",
      "[x=81.98261 y=0.00005 orient=0.00007]\n",
      "[x=82.98261 y=0.00012 orient=0.00005]\n",
      "[x=83.98261 y=0.00017 orient=0.00004]\n",
      "[x=84.98261 y=0.00021 orient=0.00003]\n",
      "[x=85.98261 y=0.00025 orient=0.00002]\n",
      "[x=86.98261 y=0.00027 orient=0.00002]\n",
      "[x=87.98261 y=0.00029 orient=0.00001]\n",
      "[x=88.98261 y=0.00030 orient=0.00001]\n",
      "[x=89.98261 y=0.00031 orient=0.00000]\n",
      "[x=90.98261 y=0.00031 orient=6.28318]\n",
      "[x=91.98261 y=0.00030 orient=6.28318]\n",
      "[x=92.98261 y=0.00030 orient=6.28318]\n",
      "[x=93.98261 y=0.00029 orient=6.28317]\n",
      "[x=94.98261 y=0.00028 orient=6.28317]\n",
      "[x=95.98261 y=0.00026 orient=6.28317]\n",
      "[x=96.98261 y=0.00025 orient=6.28317]\n",
      "[x=97.98261 y=0.00024 orient=6.28317]\n",
      "[x=98.98261 y=0.00022 orient=6.28317]\n",
      "[x=99.98261 y=0.00021 orient=6.28317]\n"
     ]
    },
    {
     "data": {
      "image/png": "[encoded data removed]",
      "text/plain": [
       "<Figure size 576x576 with 2 Axes>"
      ]
     },
     "metadata": {
      "needs_background": "light"
     },
     "output_type": "display_data"
    }
   ],
   "source": [
    "robot = Robot()\n",
    "robot.set(0, 1, 0) \n",
    "x_trajectory, y_trajectory = run(robot, 0.2,3.0)\n",
    "n = len(x_trajectory)\n",
    "\n",
    "fig, (ax1, ax2) = plt.subplots(2, 1, figsize=(8, 8))\n",
    "ax1.plot(x_trajectory, y_trajectory, 'b', label='PD controller')\n",
    "ax1.plot(x_trajectory, np.zeros(n), 'r', label='reference')\n",
    "plt.savefig(\"PD_Contrl.png\")"
   ]
  },
  {
   "cell_type": "code",
   "execution_count": 19,
   "metadata": {},
   "outputs": [
    {
     "data": {
      "image/png": "[encoded data removed]",
      "text/plain": [
       "<Figure size 432x288 with 1 Axes>"
      ]
     },
     "metadata": {
      "needs_background": "light"
     },
     "output_type": "display_data"
    }
   ],
   "source": [
    "\n",
    "plt.plot(x_trajectory, y_trajectory, 'b', label='PD controller')\n",
    "plt.plot(x_trajectory, np.zeros(n), 'r', label='reference')\n",
    "plt.savefig(\"PD_Contrl.png\")"
   ]
  },
  {
   "cell_type": "code",
   "execution_count": 12,
   "metadata": {},
   "outputs": [
    {
     "data": {
      "image/png": "[encoded data removed]",
      "text/plain": [
       "<Figure size 432x288 with 1 Axes>"
      ]
     },
     "metadata": {
      "needs_background": "light"
     },
     "output_type": "display_data"
    }
   ],
   "source": [
    "\n",
    "plt.plot(x_trajectory, y_trajectory, 'b', label='P controller')\n",
    "plt.plot(x_trajectory, np.zeros(n), 'r', label='reference')\n",
    "\n",
    "plt.savefig(\"PD.png\")"
   ]
  },
  {
   "cell_type": "code",
   "execution_count": null,
   "metadata": {},
   "outputs": [],
   "source": []
  }
 ],
 "metadata": {
  "kernelspec": {
   "display_name": "Python [conda env:root] *",
   "language": "python",
   "name": "conda-root-py"
  },
  "language_info": {
   "codemirror_mode": {
    "name": "ipython",
    "version": 3
   },
   "file_extension": ".py",
   "mimetype": "text/x-python",
   "name": "python",
   "nbconvert_exporter": "python",
   "pygments_lexer": "ipython3",
   "version": "3.7.3"
  }
 },
 "nbformat": 4,
 "nbformat_minor": 2
}
