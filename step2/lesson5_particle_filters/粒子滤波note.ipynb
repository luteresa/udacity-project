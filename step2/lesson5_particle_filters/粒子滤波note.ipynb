{
 "cells": [
  {
   "cell_type": "markdown",
   "metadata": {},
   "source": [
    "# 粒子滤波原理\n",
    "\n",
    "1.**初始化**：在已知地图上随机初始化N个粒子(N取合适值，太小，不足以估算真实位置，太大，增大计算量)；\n",
    "\n",
    "2.**运动更新**：根据运动模型，更新每个粒子状态；\n",
    "\n",
    "3.**测量更新**：根据传感器测量融合信息，更新所有粒子状态；\n",
    "\n",
    "4.**重采样**： 根据步骤3中测量更新后的状态信息，重新采集样本，置信度越高的点给予更高权重，反之权重越低；\n",
    "\n",
    "重复2,3,4过程。\n",
    "\n",
    "说明：粒子滤波原理本质上还是基于贝叶斯滤波原理，与无损卡尔曼滤波有些类似，不同的是，这里采用随机的粒子，无损卡尔曼滤波采用特定粒子。\n"
   ]
  },
  {
   "cell_type": "markdown",
   "metadata": {},
   "source": [
    "下面以一个实例来实现详细过程:\n",
    "\n",
    "假设场景：在一个100x100的二维地图上，有四个landmark标记(可以用传感器测量相对车辆的距离)，用粒子滤波实现无人车定位。\n",
    "\n",
    "# step1:初始化\n",
    "\n",
    "在地图上初始化1000个随机粒子，每个粒子状态包括二维坐标$p_x, p_y$, 偏向角$\\sigma$;\n"
   ]
  },
  {
   "cell_type": "markdown",
   "metadata": {},
   "source": [
    "![](./pf000.png)"
   ]
  },
  {
   "cell_type": "code",
   "execution_count": null,
   "metadata": {},
   "outputs": [],
   "source": [
    "landmarks  = [[20.0, 20.0], [80.0, 80.0], [20.0, 80.0], [80.0, 20.0]]\n",
    "world_size = 100.0\n",
    "\n",
    "for i in range(N):\n",
    "    r = robot()\n",
    "    r.set_noise(0.05, 0.05, 5.0)\n",
    "    p.append(r)"
   ]
  },
  {
   "cell_type": "markdown",
   "metadata": {},
   "source": [
    "# step2: 运动更新\n",
    "\n",
    "为计算简便，假设车辆为恒速的自行车模型，车辆运动的位移和转向角都符合高斯分布；"
   ]
  },
  {
   "cell_type": "markdown",
   "metadata": {},
   "source": [
    "![](./pf001.png)"
   ]
  },
  {
   "cell_type": "code",
   "execution_count": null,
   "metadata": {},
   "outputs": [],
   "source": [
    "def move(self, turn, forward):\n",
    "        if forward < 0:\n",
    "            raise ValueError('Robot cant move backwards')         \n",
    "        \n",
    "        # turn, and add randomness to the turning command\n",
    "        orientation = self.orientation + float(turn) + random.gauss(0.0, self.turn_noise)\n",
    "        orientation %= 2 * pi\n",
    "        \n",
    "        # move, and add randomness to the motion command\n",
    "        dist = float(forward) + random.gauss(0.0, self.forward_noise)\n",
    "        x = self.x + (cos(orientation) * dist)\n",
    "        y = self.y + (sin(orientation) * dist)\n",
    "        x %= world_size    # cyclic truncate\n",
    "        y %= world_size\n",
    "        \n",
    "        # set particle\n",
    "        res = robot()\n",
    "        res.set(x, y, orientation)\n",
    "        res.set_noise(self.forward_noise, self.turn_noise, self.sense_noise)\n",
    "        return res"
   ]
  },
  {
   "cell_type": "markdown",
   "metadata": {},
   "source": [
    "# step3: 测量更新\n",
    "\n",
    "传感器可以测量车辆相对landmark的距离，根据贝叶斯公式，可以估算当前粒子的存在概率："
   ]
  },
  {
   "cell_type": "markdown",
   "metadata": {},
   "source": [
    "![](./pf002.png)"
   ]
  },
  {
   "cell_type": "code",
   "execution_count": null,
   "metadata": {},
   "outputs": [],
   "source": [
    "def sense(self):\n",
    "        Z = []\n",
    "        for i in range(len(landmarks)):\n",
    "            dist = sqrt((self.x - landmarks[i][0]) ** 2 + (self.y - landmarks[i][1]) ** 2)\n",
    "            dist += random.gauss(0.0, self.sense_noise)\n",
    "            Z.append(dist)\n",
    "        return Z\n",
    "def measurement_prob(self, measurement):\n",
    "        \n",
    "        # calculates how likely a measurement should be\n",
    "        \n",
    "        prob = 1.0;\n",
    "        for i in range(len(landmarks)):\n",
    "            dist = sqrt((self.x - landmarks[i][0]) ** 2 + (self.y - landmarks[i][1]) ** 2)\n",
    "            prob *= self.Gaussian(dist, self.sense_noise, measurement[i])\n",
    "        return prob"
   ]
  },
  {
   "cell_type": "markdown",
   "metadata": {},
   "source": [
    "当然，还有个很重要的步骤，测量更新后，必须做归一化。"
   ]
  },
  {
   "cell_type": "markdown",
   "metadata": {},
   "source": [
    "# step4: 重采样\n",
    "\n",
    "测量更新后的1000个粒子，都有各自状态向量和置信度。我们需要对这些粒子做一个重新采用，留下置信度高的粒子，丢掉置信度低的粒子。\n",
    "\n",
    "方法是，给每个粒子分配一个权重值，置信度越高，也就是越靠近真实值的粒子，权重越高。"
   ]
  },
  {
   "cell_type": "markdown",
   "metadata": {},
   "source": [
    "![](./pf004.png)"
   ]
  },
  {
   "cell_type": "markdown",
   "metadata": {},
   "source": [
    "伪代码实现："
   ]
  },
  {
   "cell_type": "markdown",
   "metadata": {},
   "source": [
    "![](./pf005.png)"
   ]
  },
  {
   "cell_type": "code",
   "execution_count": null,
   "metadata": {},
   "outputs": [],
   "source": [
    "N = 1000\n",
    "p = []\n",
    "for i in range(N):\n",
    "    x = robot()\n",
    "    x.set_noise(0.05, 0.05, 5.0)\n",
    "    p.append(x)\n",
    "\n",
    "p2 = []\n",
    "for i in range(N):\n",
    "    p2.append(p[i].move(0.1, 5.0))\n",
    "p = p2\n",
    "\n",
    "w = []\n",
    "for i in range(N):\n",
    "    w.append(p[i].measurement_prob(Z))\n",
    "    \n",
    "p3 = []\n",
    "index = int(random.random()*N)\n",
    "beta = 0.\n",
    "mw = max(w)\n",
    "for i in range(N):\n",
    "    beta += random.random()*2.0*mw\n",
    "    while beta > w[index]:\n",
    "        beta -= w[index]\n",
    "        index = (index+1)%N\n",
    "    p3.append(p[index])\n",
    "p = p3\n",
    "for it in p:\n",
    "    print(it) "
   ]
  },
  {
   "cell_type": "markdown",
   "metadata": {},
   "source": [
    "执行一个周期，观察结果，坐标值都相近，但偏航角差别很大，这是因为测量更新只考虑距离，每检测偏航角；滤波周期执行多次，即可纠正偏航角。"
   ]
  },
  {
   "cell_type": "markdown",
   "metadata": {},
   "source": [
    "![](./pf009.png)"
   ]
  },
  {
   "cell_type": "markdown",
   "metadata": {},
   "source": [
    "更新权重后，得到如下粒子分布；\n",
    "\n",
    "![](./pf003.png)\n"
   ]
  },
  {
   "cell_type": "markdown",
   "metadata": {},
   "source": [
    "以上就是粒子滤波的实现过程，基本原理基于贝叶斯公式，"
   ]
  },
  {
   "cell_type": "markdown",
   "metadata": {},
   "source": [
    "![](./pf006.png)"
   ]
  },
  {
   "cell_type": "markdown",
   "metadata": {},
   "source": [
    "# 误差计算\n",
    "\n",
    "每个滤波周期都计算残差来衡量估算的准确性。\n",
    "\n",
    "```python\n",
    "def eval(r, p):\n",
    "    sum = 0.0;\n",
    "    for i in range(len(p)): # calculate mean error\n",
    "        dx = (p[i].x - r.x + (world_size/2.0)) % world_size - (world_size/2.0)\n",
    "        dy = (p[i].y - r.y + (world_size/2.0)) % world_size - (world_size/2.0)\n",
    "        err = sqrt(dx * dx + dy * dy)\n",
    "        sum += err\n",
    "    return sum / float(len(p))\n",
    "```"
   ]
  },
  {
   "cell_type": "markdown",
   "metadata": {},
   "source": [
    "完整代码实现："
   ]
  },
  {
   "cell_type": "code",
   "execution_count": 12,
   "metadata": {},
   "outputs": [],
   "source": [
    "# In this exercise, write a program that will\n",
    "# run your previous code twice.\n",
    "# Please only modify the indicated area below!\n",
    "\n",
    "from math import *\n",
    "import random\n",
    "\n",
    "landmarks  = [[20.0, 20.0], [80.0, 80.0], [20.0, 80.0], [80.0, 20.0]]\n",
    "world_size = 100.0\n",
    "\n",
    "class robot:\n",
    "    def __init__(self):\n",
    "        self.x = random.random() * world_size\n",
    "        self.y = random.random() * world_size\n",
    "        self.orientation = random.random() * 2.0 * pi\n",
    "        self.forward_noise = 0.0;\n",
    "        self.turn_noise    = 0.0;\n",
    "        self.sense_noise   = 0.0;\n",
    "    \n",
    "    def set(self, new_x, new_y, new_orientation):\n",
    "        if new_x < 0 or new_x >= world_size:\n",
    "            raise ValueError('X coordinate out of bound')\n",
    "        if new_y < 0 or new_y >= world_size:\n",
    "            raise ValueError('Y coordinate out of bound')\n",
    "        if new_orientation < 0 or new_orientation >= 2 * pi:\n",
    "            raise ValueError('Orientation must be in [0..2pi]')\n",
    "        self.x = float(new_x)\n",
    "        self.y = float(new_y)\n",
    "        self.orientation = float(new_orientation)\n",
    "    \n",
    "    \n",
    "    def set_noise(self, new_f_noise, new_t_noise, new_s_noise):\n",
    "        # makes it possible to change the noise parameters\n",
    "        # this is often useful in particle filters\n",
    "        self.forward_noise = float(new_f_noise);\n",
    "        self.turn_noise    = float(new_t_noise);\n",
    "        self.sense_noise   = float(new_s_noise);\n",
    "    \n",
    "    \n",
    "    def sense(self):\n",
    "        Z = []\n",
    "        for i in range(len(landmarks)):\n",
    "            dist = sqrt((self.x - landmarks[i][0]) ** 2 + (self.y - landmarks[i][1]) ** 2)\n",
    "            dist += random.gauss(0.0, self.sense_noise)\n",
    "            Z.append(dist)\n",
    "        return Z\n",
    "    \n",
    "    \n",
    "    def move(self, turn, forward):\n",
    "        if forward < 0:\n",
    "            raise ValueError('Robot cant move backwards')         \n",
    "        \n",
    "        # turn, and add randomness to the turning command\n",
    "        orientation = self.orientation + float(turn) + random.gauss(0.0, self.turn_noise)\n",
    "        orientation %= 2 * pi\n",
    "        \n",
    "        # move, and add randomness to the motion command\n",
    "        dist = float(forward) + random.gauss(0.0, self.forward_noise)\n",
    "        x = self.x + (cos(orientation) * dist)\n",
    "        y = self.y + (sin(orientation) * dist)\n",
    "        x %= world_size    # cyclic truncate\n",
    "        y %= world_size\n",
    "        \n",
    "        # set particle\n",
    "        res = robot()\n",
    "        res.set(x, y, orientation)\n",
    "        res.set_noise(self.forward_noise, self.turn_noise, self.sense_noise)\n",
    "        return res\n",
    "    \n",
    "    def Gaussian(self, mu, sigma, x):\n",
    "        \n",
    "        # calculates the probability of x for 1-dim Gaussian with mean mu and var. sigma\n",
    "        return exp(- ((mu - x) ** 2) / (sigma ** 2) / 2.0) / sqrt(2.0 * pi * (sigma ** 2))\n",
    "    \n",
    "    \n",
    "    def measurement_prob(self, measurement):\n",
    "        \n",
    "        # calculates how likely a measurement should be\n",
    "        \n",
    "        prob = 1.0;\n",
    "        for i in range(len(landmarks)):\n",
    "            dist = sqrt((self.x - landmarks[i][0]) ** 2 + (self.y - landmarks[i][1]) ** 2)\n",
    "            prob *= self.Gaussian(dist, self.sense_noise, measurement[i])\n",
    "        return prob\n",
    "      \n",
    "    def __repr__(self):\n",
    "        return '[x=%.6s y=%.6s orient=%.6s]' % (str(self.x), str(self.y), str(self.orientation))\n",
    "\n",
    "def eval(r, p):\n",
    "    sum = 0.0;\n",
    "    for i in range(len(p)): # calculate mean error\n",
    "        dx = (p[i].x - r.x + (world_size/2.0)) % world_size - (world_size/2.0)\n",
    "        dy = (p[i].y - r.y + (world_size/2.0)) % world_size - (world_size/2.0)\n",
    "        err = sqrt(dx * dx + dy * dy)\n",
    "        sum += err\n",
    "    return sum / float(len(p))\n",
    "\n"
   ]
  },
  {
   "cell_type": "code",
   "execution_count": 13,
   "metadata": {},
   "outputs": [
    {
     "name": "stdout",
     "output_type": "stream",
     "text": [
      "38.28897056029504\n",
      "4.9331283401417725\n",
      "4.0438114658306645\n",
      "4.66579422701821\n",
      "3.811086258330147\n",
      "3.3447372668582904\n",
      "3.0434068780777523\n",
      "2.807305201657159\n",
      "2.8799829095399514\n",
      "2.9497875964848808\n",
      "2.954187636130662\n",
      "2.9416977227023726\n",
      "2.766929046650156\n",
      "2.768404870106699\n",
      "2.820616379419143\n",
      "2.891375015275518\n",
      "2.9021249153169397\n",
      "2.8541130103722607\n",
      "2.7299956447126275\n",
      "2.702165258498533\n",
      "2.7067842511961833\n"
     ]
    }
   ],
   "source": [
    "myrobot = robot()\n",
    "myrobot = myrobot.move(0.1, 5.0)\n",
    "Z = myrobot.sense()\n",
    "N = 1000\n",
    "T = 20 #Leave this as 10 for grading purposes.\n",
    "\n",
    "p = []\n",
    "for i in range(N):\n",
    "    r = robot()\n",
    "    r.set_noise(0.05, 0.05, 5.0)\n",
    "    p.append(r)\n",
    "print(eval(myrobot,p))\n",
    "for t in range(T):\n",
    "    myrobot = myrobot.move(0.1, 5.0)\n",
    "    Z = myrobot.sense()\n",
    "\n",
    "    p2 = []\n",
    "    for i in range(N):\n",
    "        p2.append(p[i].move(0.1, 5.0))\n",
    "    p = p2\n",
    "\n",
    "    w = []\n",
    "    for i in range(N):\n",
    "        w.append(p[i].measurement_prob(Z))\n",
    "\n",
    "    p3 = []\n",
    "    index = int(random.random() * N)\n",
    "    beta = 0.0\n",
    "    mw = max(w)\n",
    "    for i in range(N):\n",
    "        beta += random.random() * 2.0 * mw\n",
    "        while beta > w[index]:\n",
    "            beta -= w[index]\n",
    "            index = (index + 1) % N\n",
    "        p3.append(p[index])\n",
    "    p = p3\n",
    "    #enter code here, make sure that you output 10 print statements.\n",
    "    print(eval(myrobot,p))"
   ]
  },
  {
   "cell_type": "markdown",
   "metadata": {},
   "source": [
    "粒子滤波器与卡尔曼滤波，直方图滤波对比\n",
    "\n",
    "![](./pf011.png)"
   ]
  },
  {
   "cell_type": "markdown",
   "metadata": {},
   "source": [
    "![](./pf008.png)"
   ]
  },
  {
   "cell_type": "markdown",
   "metadata": {},
   "source": [
    "说明：粒子滤波器容易实现，但不适合三维以上模型"
   ]
  },
  {
   "cell_type": "code",
   "execution_count": null,
   "metadata": {},
   "outputs": [],
   "source": []
  },
  {
   "cell_type": "code",
   "execution_count": null,
   "metadata": {},
   "outputs": [],
   "source": []
  }
 ],
 "metadata": {
  "kernelspec": {
   "display_name": "Python [conda env:tf_gpu]",
   "language": "python",
   "name": "conda-env-tf_gpu-py"
  },
  "language_info": {
   "codemirror_mode": {
    "name": "ipython",
    "version": 3
   },
   "file_extension": ".py",
   "mimetype": "text/x-python",
   "name": "python",
   "nbconvert_exporter": "python",
   "pygments_lexer": "ipython3",
   "version": "3.7.3"
  }
 },
 "nbformat": 4,
 "nbformat_minor": 2
}
